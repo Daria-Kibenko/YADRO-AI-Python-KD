{
  "cells": [
    {
      "cell_type": "markdown",
      "id": "6e02831b",
      "metadata": {
        "id": "6e02831b"
      },
      "source": [
        "# Сжатие языковой модели"
      ]
    },
    {
      "cell_type": "markdown",
      "id": "6fc13ca5",
      "metadata": {
        "id": "6fc13ca5"
      },
      "source": [
        "## Порядок сдачи домашнего"
      ]
    },
    {
      "cell_type": "markdown",
      "id": "81e4496d",
      "metadata": {
        "ExecuteTime": {
          "end_time": "2024-10-07T06:07:46.064030Z",
          "start_time": "2024-10-07T06:07:46.041743Z"
        },
        "id": "81e4496d"
      },
      "source": [
        "Под каждое домашнее вы создаете отдельную ветку куда вносите все изменения в рамках домашнего. Как только домашнее готово - создаете пулл реквест (обратите внимание что в пулл реквесте должны быть отражены все изменения в рамках домашнего). Ревьювера назначаете из таблицы - https://docs.google.com/spreadsheets/d/1vK6IgEqaqXniUJAQOOspiL_tx3EYTSXW1cUrMHAZFr8/edit?gid=0#gid=0\n",
        "Перед сдачей проверьте код, напишите тесты. Не забудьте про PEP8, например, с помощью flake8. Задание нужно делать в jupyter notebook.\n",
        "\n",
        "**Дедлайн - 17 октбяря 10:00**"
      ]
    },
    {
      "cell_type": "markdown",
      "id": "aceaeda3",
      "metadata": {
        "id": "aceaeda3"
      },
      "source": [
        "В этом домашнем задании вам предстоит изучить и реализовать комбинированный алгоритм для сжатия матриц весов языковой модели, который включает три этапа:\n",
        "- **Квантизацию**\n",
        "- **Кодирование Хаффмана**\n",
        "- **Бит-паккинг**\n",
        "- **Запись и чтение в файл**\n",
        "\n",
        "Вам также необходимо будет реализовать обратную процедуру расжатия для восстановления матрицы до её исходного состояния. Пакетом `numpy` пользовать нельзя."
      ]
    },
    {
      "cell_type": "markdown",
      "id": "57834112",
      "metadata": {
        "ExecuteTime": {
          "end_time": "2024-10-09T05:00:11.856219Z",
          "start_time": "2024-10-09T05:00:11.846534Z"
        },
        "id": "57834112"
      },
      "source": [
        "Для начала сгенерируем нашу матрицу весов. Реализуйте функцию `generate_normal_weights_matrix`, которая будет генерировать матрицу случайных весов, где веса распределены нормально. Вам понадобится функция `random.gauss` для генерации случайных чисел из нормального распределения:"
      ]
    },
    {
      "cell_type": "code",
      "execution_count": 18,
      "id": "c5d91d52",
      "metadata": {
        "ExecuteTime": {
          "end_time": "2024-10-09T05:06:53.587975Z",
          "start_time": "2024-10-09T05:06:53.555396Z"
        },
        "colab": {
          "base_uri": "https://localhost:8080/"
        },
        "id": "c5d91d52",
        "outputId": "aea80de6-4fd9-4244-eaf0-0488ab72c42f"
      },
      "outputs": [
        {
          "output_type": "execute_result",
          "data": {
            "text/plain": [
              "-0.09069860015968034"
            ]
          },
          "metadata": {},
          "execution_count": 18
        }
      ],
      "source": [
        "import random\n",
        "\n",
        "mean = 0.0\n",
        "stddev = 0.1\n",
        "random.gauss(mean, stddev)"
      ]
    },
    {
      "cell_type": "markdown",
      "id": "0d3d9510",
      "metadata": {
        "id": "0d3d9510"
      },
      "source": [
        "```python\n",
        "weights_matrix = generate_normal_weights_matrix(5, 5)\n",
        "for row in weights_matrix:\n",
        "    print(row)\n",
        "[0.3000485326712691, 0.25965299191334695, -0.06755153631842248, 0.13020487844655038, 0.1143769419370928]\n",
        "[0.04287032494033407, 0.37860865986969466, -0.21154587156719093, 0.02538857794887883, 0.358874552698265]\n",
        "[-0.12730102686770312, -0.09250783210681686, -0.31943991155969786, -0.12649930568136855, -0.133368865014227]\n",
        "[-0.001125940850390421, 0.08131363950833258, -0.12099869191945688, 0.14554258117597563, 0.157276907472140]\n",
        "[-0.07352639207896368, 0.013629438616873364, -0.11502982664385775, 0.042140678513802377, 0.0980238501942050]\n",
        "```"
      ]
    },
    {
      "cell_type": "code",
      "execution_count": 19,
      "id": "f09ac50d",
      "metadata": {
        "ExecuteTime": {
          "end_time": "2024-10-09T05:14:27.146581Z",
          "start_time": "2024-10-09T05:14:27.131189Z"
        },
        "id": "f09ac50d"
      },
      "outputs": [],
      "source": [
        "def generate_normal_weights_matrix(rows, cols, mean=0.0, stddev=0.1):\n",
        "    return [[random.gauss(mean, stddev) for _ in range(cols)] for _ in range(rows)]"
      ]
    },
    {
      "cell_type": "markdown",
      "id": "3d70d0c9",
      "metadata": {
        "id": "3d70d0c9"
      },
      "source": [
        "Для упрощения работы переведем двух мерный массив в одномерный."
      ]
    },
    {
      "cell_type": "code",
      "execution_count": 20,
      "id": "bd476b2d",
      "metadata": {
        "ExecuteTime": {
          "end_time": "2024-10-09T05:23:43.040519Z",
          "start_time": "2024-10-09T05:23:43.013204Z"
        },
        "id": "bd476b2d"
      },
      "outputs": [],
      "source": [
        "weights_matrix = generate_normal_weights_matrix(100, 100, mean, stddev)"
      ]
    },
    {
      "cell_type": "code",
      "execution_count": 21,
      "id": "8dffc34f",
      "metadata": {
        "ExecuteTime": {
          "end_time": "2024-10-09T05:23:43.831923Z",
          "start_time": "2024-10-09T05:23:43.804941Z"
        },
        "id": "8dffc34f"
      },
      "outputs": [],
      "source": [
        "weights = [weight for row in weights_matrix for weight in row]"
      ]
    },
    {
      "cell_type": "markdown",
      "id": "39aa42f5",
      "metadata": {
        "id": "39aa42f5"
      },
      "source": [
        "Проверим, что у нас получилось."
      ]
    },
    {
      "cell_type": "code",
      "execution_count": 23,
      "id": "79d8c10c",
      "metadata": {
        "ExecuteTime": {
          "end_time": "2024-10-09T05:23:45.447687Z",
          "start_time": "2024-10-09T05:23:45.268423Z"
        },
        "colab": {
          "base_uri": "https://localhost:8080/",
          "height": 564
        },
        "id": "79d8c10c",
        "outputId": "a4b1c785-c2c2-4224-e7f9-6b3eb27b38d7"
      },
      "outputs": [
        {
          "output_type": "display_data",
          "data": {
            "text/plain": [
              "<Figure size 800x600 with 1 Axes>"
            ],
            "image/png": "[encoded data removed]"
          },
          "metadata": {}
        }
      ],
      "source": [
        "import matplotlib.pyplot as plt\n",
        "import scipy.stats as stats\n",
        "import numpy as np\n",
        "\n",
        "plt.figure(figsize=(8, 6))\n",
        "count, bins, ignored = plt.hist(weights, bins=30, density=True, alpha=0.6, color='skyblue', edgecolor='black')\n",
        "\n",
        "# Добавление кривой плотности вероятности\n",
        "xmin, xmax = plt.xlim()\n",
        "x = np.linspace(xmin, xmax, 100)\n",
        "p = stats.norm.pdf(x, mean, stddev)  # Вычисление плотности вероятности\n",
        "plt.plot(x, p, 'r', linewidth=2)\n",
        "\n",
        "# Настройки графика\n",
        "plt.title(\"Нормально распределённая случайная величина\")\n",
        "plt.xlabel(\"Значение\")\n",
        "plt.ylabel(\"Плотность вероятности\")\n",
        "plt.grid(True)\n",
        "\n",
        "# Отображение графика\n",
        "plt.show()"
      ]
    },
    {
      "cell_type": "code",
      "source": [],
      "metadata": {
        "id": "Fnfg7NBg1PnZ"
      },
      "id": "Fnfg7NBg1PnZ",
      "execution_count": null,
      "outputs": []
    },
    {
      "cell_type": "markdown",
      "id": "c709792d",
      "metadata": {
        "id": "c709792d"
      },
      "source": [
        "Приступим к сжатию этой матрицы!"
      ]
    },
    {
      "cell_type": "markdown",
      "id": "6bf29092",
      "metadata": {
        "id": "6bf29092"
      },
      "source": [
        "## Квантизация"
      ]
    },
    {
      "cell_type": "markdown",
      "id": "23b10d31",
      "metadata": {
        "id": "23b10d31"
      },
      "source": [
        "**Квантизация** — это процесс преобразования данных с высокой точностью (например, с 32-битного представления) в данные с более низкой точностью (например, 8-битное представление) для уменьшения объёма памяти и вычислительных ресурсов. В контексте машинного обучения, квантизация чаще всего применяется к весам нейронных сетей и их активациям для уменьшения размера модели и ускорения работы, особенно при выполнении инференса на мобильных устройствах и встраиваемых системах.\n"
      ]
    },
    {
      "cell_type": "markdown",
      "id": "587f18a9",
      "metadata": {
        "id": "587f18a9"
      },
      "source": [
        "### Цели квантизации:"
      ]
    },
    {
      "cell_type": "markdown",
      "id": "dc6692ac",
      "metadata": {
        "id": "dc6692ac"
      },
      "source": [
        "1.\t**Уменьшение объёма памяти:** Квантизация позволяет сократить объём памяти, занимаемый весами и другими параметрами модели, путём представления чисел с меньшей разрядностью.\n",
        "2.\t**Ускорение вычислений:** С помощью квантизации можно использовать специальные процессоры и ускорители (например, процессоры с поддержкой 8-битных вычислений), что увеличивает производительность.\n",
        "3.\t**Снижение энергопотребления:** Более короткие представления данных позволяют сократить энергопотребление при выполнении операций."
      ]
    },
    {
      "cell_type": "markdown",
      "id": "2aebd15c",
      "metadata": {
        "ExecuteTime": {
          "end_time": "2024-10-09T04:53:52.075792Z",
          "start_time": "2024-10-09T04:53:52.069839Z"
        },
        "id": "2aebd15c"
      },
      "source": [
        "### Как работает квантизация?"
      ]
    },
    {
      "cell_type": "markdown",
      "id": "4a0e0ebd",
      "metadata": {
        "ExecuteTime": {
          "end_time": "2024-10-09T04:54:00.111617Z",
          "start_time": "2024-10-09T04:54:00.091932Z"
        },
        "id": "4a0e0ebd"
      },
      "source": [
        "Квантизация заключается в преобразовании значений с высокой точностью (например, числа с плавающей точкой) в числа с меньшей точностью (например, целые числа). Существует несколько методов квантизации:\n",
        "\n",
        "1.\t**Униформная (равномерная) квантизация:** Простая и часто используемая техника, когда диапазон значений разделяется на равные интервалы (кванты), и каждое значение округляется до ближайшего значения из этого интервала.\n",
        "2.\t**Неравномерная квантизация:** Применяется, когда диапазон значений распределён неравномерно, и поэтому используются интервалы с разной шириной.\n",
        "3.\t**Квантизация во время обучения (quantization-aware training):** Модель обучается с учётом того, что её веса будут квантизированы. Это позволяет лучше подготовить модель к работе в условиях низкой точности.\n",
        "4.\t**Квантизация после обучения (post-training quantization):** Модель сначала обучается с полной точностью, а затем веса и активации квантизируются."
      ]
    },
    {
      "cell_type": "markdown",
      "id": "506869fc",
      "metadata": {
        "id": "506869fc"
      },
      "source": [
        "В данном домашнем задании мы рассмотри наиболее простой вариант - **равномерная квантизация**."
      ]
    },
    {
      "cell_type": "markdown",
      "id": "c628d8b7",
      "metadata": {
        "ExecuteTime": {
          "end_time": "2024-10-09T04:56:24.217639Z",
          "start_time": "2024-10-09T04:56:24.210506Z"
        },
        "id": "c628d8b7"
      },
      "source": [
        "### Пример униформной квантизации"
      ]
    },
    {
      "cell_type": "markdown",
      "id": "35389763",
      "metadata": {
        "id": "35389763"
      },
      "source": [
        "Предположим, у нас есть матрица весов, представленная в виде чисел с плавающей точкой, и мы хотим сократить количество бит, используемых для хранения этих значений."
      ]
    },
    {
      "cell_type": "markdown",
      "id": "4b4ea228",
      "metadata": {
        "id": "4b4ea228"
      },
      "source": [
        "#### Шаг 1: Определение диапазона значений"
      ]
    },
    {
      "cell_type": "markdown",
      "id": "b9a28f63",
      "metadata": {
        "id": "b9a28f63"
      },
      "source": [
        "Для начала определим минимальное и максимальное значение весов, чтобы определить диапазон:"
      ]
    },
    {
      "cell_type": "code",
      "execution_count": 6,
      "id": "a792887a",
      "metadata": {
        "ExecuteTime": {
          "end_time": "2024-10-09T05:23:55.123724Z",
          "start_time": "2024-10-09T05:23:55.104837Z"
        },
        "colab": {
          "base_uri": "https://localhost:8080/"
        },
        "id": "a792887a",
        "outputId": "d46d1f34-a7d8-48d2-dded-63061a5562c2"
      },
      "outputs": [
        {
          "output_type": "stream",
          "name": "stdout",
          "text": [
            "Минимальное значение: -0.41831123774672396\n",
            "Максимальное значение: 0.4257653016910477\n"
          ]
        }
      ],
      "source": [
        "min_value = min(weights)\n",
        "max_value = max(weights)\n",
        "\n",
        "print(f\"Минимальное значение: {min_value}\")\n",
        "print(f\"Максимальное значение: {max_value}\")"
      ]
    },
    {
      "cell_type": "markdown",
      "id": "d9d2bde4",
      "metadata": {
        "ExecuteTime": {
          "end_time": "2024-10-09T05:18:21.710154Z",
          "start_time": "2024-10-09T05:18:21.681750Z"
        },
        "id": "d9d2bde4"
      },
      "source": [
        "#### Шаг 2: Определение шага квантизации"
      ]
    },
    {
      "cell_type": "markdown",
      "id": "0896540d",
      "metadata": {
        "id": "0896540d"
      },
      "source": [
        "Теперь мы определим шаг квантизации, который будет разделять диапазон на равные интервалы. Предположим, что мы хотим использовать 8-битное представление. Это даёт нам $256$ различных значений (так как $8$ бит позволяют хранить $2^8 = 256$ различных чисел).\n",
        "\n",
        "Шаг квантизации можно вычислить как:\n",
        "\n",
        "\n",
        "$$\\text{step} = \\frac{\\max - \\min}{2^8 - 1}$$\n"
      ]
    },
    {
      "cell_type": "code",
      "execution_count": 24,
      "id": "185b1ef9",
      "metadata": {
        "ExecuteTime": {
          "end_time": "2024-10-09T05:23:57.225217Z",
          "start_time": "2024-10-09T05:23:57.209530Z"
        },
        "colab": {
          "base_uri": "https://localhost:8080/"
        },
        "id": "185b1ef9",
        "outputId": "d7f8207c-a412-4057-d905-2b13e0039398"
      },
      "outputs": [
        {
          "output_type": "stream",
          "name": "stdout",
          "text": [
            "Шаг квантизации: 0.0033101040762265554\n"
          ]
        }
      ],
      "source": [
        "num_levels = 256  # Для 8 бит\n",
        "step = (max_value - min_value) / (num_levels - 1)\n",
        "print(f\"Шаг квантизации: {step}\")"
      ]
    },
    {
      "cell_type": "markdown",
      "id": "8018370a",
      "metadata": {
        "id": "8018370a"
      },
      "source": [
        "#### Шаг 3: Применение квантизации"
      ]
    },
    {
      "cell_type": "markdown",
      "id": "21bf45cc",
      "metadata": {
        "id": "21bf45cc"
      },
      "source": [
        "Теперь мы можем преобразовать каждое значение в его ближайший квантизированный уровень:\n",
        "\n",
        "\n",
        "$$\\text{quantized_value} = \\text{round} \\left( \\frac{\\text{value} - \\min}{\\text{step}} \\right)$$\n"
      ]
    },
    {
      "cell_type": "code",
      "execution_count": 25,
      "id": "3f06d260",
      "metadata": {
        "ExecuteTime": {
          "end_time": "2024-10-09T05:24:17.156817Z",
          "start_time": "2024-10-09T05:24:17.137187Z"
        },
        "colab": {
          "base_uri": "https://localhost:8080/"
        },
        "id": "3f06d260",
        "outputId": "d5f70513-26ff-48b5-8af7-1ce96e41b889"
      },
      "outputs": [
        {
          "output_type": "stream",
          "name": "stdout",
          "text": [
            "Квантизированные веса:\n",
            "{10, 25, 26, 29, 30, 31, 32, 34, 37, 39, 40, 42, 43, 44, 45, 46, 47, 48, 49, 50, 51, 52, 53, 54, 55, 56, 57, 58, 59, 60, 61, 62, 63, 64, 65, 66, 67, 68, 69, 70, 71, 72, 73, 74, 75, 76, 77, 78, 79, 80, 81, 82, 83, 84, 85, 86, 87, 88, 89, 90, 91, 92, 93, 94, 95, 96, 97, 98, 99, 100, 101, 102, 103, 104, 105, 106, 107, 108, 109, 110, 111, 112, 113, 114, 115, 116, 117, 118, 119, 120, 121, 122, 123, 124, 125, 126, 127, 128, 129, 130, 131, 132, 133, 134, 135, 136, 137, 138, 139, 140, 141, 142, 143, 144, 145, 146, 147, 148, 149, 150, 151, 152, 153, 154, 155, 156, 157, 158, 159, 160, 161, 162, 163, 164, 165, 166, 167, 168, 169, 170, 171, 172, 173, 174, 175, 176, 177, 178, 179, 180, 181, 182, 183, 184, 185, 186, 187, 188, 189, 190, 191, 192, 193, 194, 195, 196, 197, 198, 199, 200, 201, 202, 203, 204, 205, 206, 207, 208, 209, 210, 211, 212, 213, 214, 215, 217, 218, 222, 228, 233, 266}\n"
          ]
        }
      ],
      "source": [
        "quantized_weights = [round((weight - min_value) / step) for weight in weights]\n",
        "\n",
        "print(\"Квантизированные веса:\")\n",
        "print(set(quantized_weights))"
      ]
    },
    {
      "cell_type": "markdown",
      "id": "74783a4a",
      "metadata": {
        "ExecuteTime": {
          "end_time": "2024-10-09T05:25:27.273583Z",
          "start_time": "2024-10-09T05:25:27.261310Z"
        },
        "id": "74783a4a"
      },
      "source": [
        "#### Шаг 4: Обратное преобразование (деквантизация)"
      ]
    },
    {
      "cell_type": "markdown",
      "id": "ccedab85",
      "metadata": {
        "ExecuteTime": {
          "end_time": "2024-10-09T05:24:47.453178Z",
          "start_time": "2024-10-09T05:24:47.443421Z"
        },
        "id": "ccedab85"
      },
      "source": [
        "Чтобы восстановить оригинальные значения весов, необходимо преобразовать квантизированные значения обратно в их исходный диапазон:\n",
        "\n",
        "\n",
        "$$\\text{recovered_value} = \\text{quantized_value} \\times \\text{step} + \\min$$\n"
      ]
    },
    {
      "cell_type": "code",
      "execution_count": 26,
      "id": "a06dba7c",
      "metadata": {
        "ExecuteTime": {
          "end_time": "2024-10-09T05:26:16.498479Z",
          "start_time": "2024-10-09T05:26:16.481736Z"
        },
        "colab": {
          "base_uri": "https://localhost:8080/"
        },
        "id": "a06dba7c",
        "outputId": "8306ea2a-91ee-4e4e-944a-0ab69ba74d66"
      },
      "outputs": [
        {
          "output_type": "stream",
          "name": "stdout",
          "text": [
            "Восстановленные веса:\n",
            "[-0.054199789361802864, -0.02109874859953731, -0.014478540447084187, 0.008692188086501684, 0.05503364515367343]\n"
          ]
        }
      ],
      "source": [
        "recovered_weights = [quantized_weight * step + min_value for quantized_weight in quantized_weights]\n",
        "\n",
        "print(\"Восстановленные веса:\")\n",
        "print(recovered_weights[:5])"
      ]
    },
    {
      "cell_type": "markdown",
      "id": "64c0be79",
      "metadata": {
        "id": "64c0be79"
      },
      "source": [
        "Посчитаем максимальную ошибку"
      ]
    },
    {
      "cell_type": "code",
      "execution_count": 27,
      "id": "ebd56e68",
      "metadata": {
        "ExecuteTime": {
          "end_time": "2024-10-09T05:27:23.774859Z",
          "start_time": "2024-10-09T05:27:23.757940Z"
        },
        "colab": {
          "base_uri": "https://localhost:8080/"
        },
        "id": "ebd56e68",
        "outputId": "7a27304e-10f1-4b7b-fab7-5e42eaa73707"
      },
      "outputs": [
        {
          "output_type": "execute_result",
          "data": {
            "text/plain": [
              "0.0016548220651283335"
            ]
          },
          "metadata": {},
          "execution_count": 27
        }
      ],
      "source": [
        "max([abs(w - rw) for w, rw in zip(weights, recovered_weights)])"
      ]
    },
    {
      "cell_type": "markdown",
      "id": "dcf1091a",
      "metadata": {
        "id": "dcf1091a"
      },
      "source": [
        "На практике намного удобнее, когда мы можем контролировать ошибку, поэтому реализуйте методы квантизации и деквантизации, у которых будет параметр максимальной возможной ошибки между значениями для задания `step`."
      ]
    },
    {
      "cell_type": "code",
      "execution_count": 28,
      "id": "ab4d9f62",
      "metadata": {
        "ExecuteTime": {
          "end_time": "2024-10-09T05:36:04.481252Z",
          "start_time": "2024-10-09T05:36:04.469670Z"
        },
        "id": "ab4d9f62"
      },
      "outputs": [],
      "source": [
        "def quantize_weights(weights, max_error):\n",
        "    min_value = min(weights)\n",
        "    max_value = max(weights)\n",
        "\n",
        "    step = 2 * max_error\n",
        "    quantized_weights = [round((weight - min_value) / step) for weight in weights]\n",
        "\n",
        "    return quantized_weights, step, min_value\n",
        "\n",
        "def dequantize_weights(quantized_weights, step, min_value):\n",
        "    return [q * step + min_value for q in quantized_weights]"
      ]
    },
    {
      "cell_type": "code",
      "execution_count": 29,
      "id": "0c496347",
      "metadata": {
        "id": "0c496347"
      },
      "outputs": [],
      "source": [
        "max_error = 0.01\n",
        "quantized_weights, step, min_value = quantize_weights(weights, max_error)\n",
        "recovered_weights = dequantize_weights(quantized_weights, step, min_value)"
      ]
    },
    {
      "cell_type": "markdown",
      "source": [
        "Проверка"
      ],
      "metadata": {
        "id": "_M82t53H0bgw"
      },
      "id": "_M82t53H0bgw"
    },
    {
      "cell_type": "code",
      "source": [
        "max([abs(w - rw) for w, rw in zip(weights, recovered_weights)])"
      ],
      "metadata": {
        "colab": {
          "base_uri": "https://localhost:8080/"
        },
        "id": "IKcwOp7d0dob",
        "outputId": "bce6bc4e-8055-448c-b903-9cda7e5ce141"
      },
      "id": "IKcwOp7d0dob",
      "execution_count": 30,
      "outputs": [
        {
          "output_type": "execute_result",
          "data": {
            "text/plain": [
              "0.009999437147343082"
            ]
          },
          "metadata": {},
          "execution_count": 30
        }
      ]
    },
    {
      "cell_type": "markdown",
      "id": "8fe991a8",
      "metadata": {
        "ExecuteTime": {
          "end_time": "2024-10-09T05:43:09.371245Z",
          "start_time": "2024-10-09T05:43:09.361618Z"
        },
        "id": "8fe991a8"
      },
      "source": [
        "## Кодирование Хаффмана"
      ]
    },
    {
      "cell_type": "markdown",
      "id": "c977f622",
      "metadata": {
        "id": "c977f622"
      },
      "source": [
        "**Кодирование Хаффмана** — это алгоритм сжатия данных, который используется для минимизации количества бит, необходимых для представления данных. Алгоритм Хаффмана является типом префиксного кодирования, где каждому символу данных назначается уникальная двоичная строка (код), и никакой код не является префиксом другого кода.\n",
        "\n",
        "Этот метод особенно полезен, когда некоторые символы встречаются чаще других. Хаффмановское кодирование назначает более короткие коды для часто встречающихся символов и более длинные коды для редких символов, что позволяет сжимать данные без потерь.\n",
        "\n",
        "Основные характеристики кодирования Хаффмана:\n",
        "\n",
        "- **Префиксный код:** никакой код не является префиксом другого кода, что позволяет однозначно декодировать последовательность.\n",
        "- **Оптимальность:** алгоритм Хаффмана даёт минимальную длину кодов для символов при известной частоте их появления.\n",
        "- **Дерево Хаффмана:** строится на основе частот символов, где часто встречающиеся символы находятся ближе к корню дерева.\n"
      ]
    },
    {
      "cell_type": "markdown",
      "id": "a139ea0e",
      "metadata": {
        "id": "a139ea0e"
      },
      "source": [
        "### Этапы работы алгоритма Хаффмана:"
      ]
    },
    {
      "cell_type": "markdown",
      "id": "0c262226",
      "metadata": {
        "id": "0c262226"
      },
      "source": [
        "1.\t**Подсчёт частот:** На первом шаге подсчитывается, как часто каждый символ встречается в данных.\n",
        "2.\t**Построение дерева Хаффмана:** Используя частоты символов, строится бинарное дерево. Символы с меньшими частотами располагаются дальше от корня дерева, а символы с более высокими частотами — ближе.\n",
        "3.\t**Назначение кодов:** Проходя от корня дерева к каждому листу (символу), алгоритм назначает каждому символу код: левой ветви присваивается “0”, а правой ветви — “1”. Таким образом, для каждого символа формируется уникальная двоичная строка.\n",
        "4.\t**Сжатие данных:** После того как к каждому символу присвоен код, данные можно сжать, заменив символы на соответствующие двоичные коды.\n",
        "5.\t**Декодирование:** Для восстановления исходных данных декодирование выполняется путём чтения двоичной строки и перемещения по дереву Хаффмана от корня до символа, который закодирован."
      ]
    },
    {
      "cell_type": "markdown",
      "id": "6c7445f9",
      "metadata": {
        "ExecuteTime": {
          "end_time": "2024-10-09T05:45:33.210649Z",
          "start_time": "2024-10-09T05:45:33.198962Z"
        },
        "id": "6c7445f9"
      },
      "source": [
        "### Пример работы алгоритма Хаффмана"
      ]
    },
    {
      "cell_type": "markdown",
      "id": "32bef6b3",
      "metadata": {
        "ExecuteTime": {
          "end_time": "2024-10-09T05:45:48.193399Z",
          "start_time": "2024-10-09T05:45:48.179365Z"
        },
        "id": "32bef6b3"
      },
      "source": [
        "Рассмотрим, как кодирование Хаффмана может быть применено к строке “ABRACADABRA”.\n",
        "\n",
        "**1.\tЧастоты символов:**\n",
        "Подсчитаем частоты каждого символа в строке:\n",
        "```python\n",
        "A: 5\n",
        "B: 2\n",
        "R: 2\n",
        "C: 1\n",
        "D: 1\n",
        "```"
      ]
    },
    {
      "cell_type": "markdown",
      "id": "7268f743",
      "metadata": {
        "ExecuteTime": {
          "end_time": "2024-10-09T05:46:27.271569Z",
          "start_time": "2024-10-09T05:46:27.245790Z"
        },
        "id": "7268f743"
      },
      "source": [
        "**2. Построение дерева Хаффмана:**\n",
        "- Начнем с того, что каждый символ представляется в виде узла дерева с весом, равным частоте появления символа.\n",
        "- На каждом шаге выбираются два узла с наименьшими частотами и объединяются в новый узел, вес которого равен сумме частот двух выбранных узлов. Этот процесс повторяется до тех пор, пока не будет построено одно дерево.\n",
        "\n",
        "Строим дерево Хаффмана:\n",
        "```python\n",
        "Шаг 1:   C:1  D:1 -> 2 (левое поддерево: C, правое поддерево: D)\n",
        "Шаг 2:   B:2  R:2 -> 4 (левое поддерево: B, правое поддерево: R)\n",
        "Шаг 3:   2 (CD)  4 (BR) -> 6\n",
        "Шаг 4:   A:5  6 (CD, BR) -> 11\n",
        "```\n",
        "\n",
        "Окончательное дерево Хаффмана выглядит следующим образом:\n",
        "\n",
        "```python\n",
        "      11\n",
        "     /  \\\n",
        "    A    6\n",
        "        /  \\\n",
        "      CD    BR\n",
        "      / \\   / \\\n",
        "     C   D B   R\n",
        "```"
      ]
    },
    {
      "cell_type": "markdown",
      "id": "23c7a010",
      "metadata": {
        "ExecuteTime": {
          "end_time": "2024-10-09T05:48:22.253234Z",
          "start_time": "2024-10-09T05:48:22.240270Z"
        },
        "id": "23c7a010"
      },
      "source": [
        "**3.\tНазначение кодов:**\n",
        "Теперь присвоим каждому символу код, начиная от корня дерева:\n",
        "- A: 0\n",
        "- C: 100\n",
        "- D: 101\n",
        "- B: 110\n",
        "- R: 111"
      ]
    },
    {
      "cell_type": "markdown",
      "id": "5011fa83",
      "metadata": {
        "id": "5011fa83"
      },
      "source": [
        "**4. Сжатие строки:**\n",
        "Используя полученные коды, мы можем закодировать строку “ABRACADABRA”:\n",
        "```python\n",
        "A -> 0\n",
        "B -> 110\n",
        "R -> 111\n",
        "A -> 0\n",
        "C -> 100\n",
        "A -> 0\n",
        "D -> 101\n",
        "A -> 0\n",
        "B -> 110\n",
        "R -> 111\n",
        "A -> 0\n",
        "```\n",
        "\n",
        "Закодированная строка: 0110111001000101101110"
      ]
    },
    {
      "cell_type": "markdown",
      "id": "327ac87e",
      "metadata": {
        "id": "327ac87e"
      },
      "source": [
        "Реализуйте методы `huffman_encode` и `huffman_decode` для кодирования и декодирования с помощью алгоритма Хаффмана."
      ]
    },
    {
      "cell_type": "code",
      "source": [
        "import heapq\n",
        "from collections import defaultdict, Counter"
      ],
      "metadata": {
        "id": "1tILo2ew3W8n"
      },
      "id": "1tILo2ew3W8n",
      "execution_count": 31,
      "outputs": []
    },
    {
      "cell_type": "code",
      "source": [
        "class HuffmanNode:\n",
        "    def __init__(self, char=None, freq=0, left=None, right=None):\n",
        "        self.char = char\n",
        "        self.freq = freq\n",
        "        self.left = left\n",
        "        self.right = right\n",
        "\n",
        "    def __lt__(self, other):\n",
        "        return self.freq < other.freq"
      ],
      "metadata": {
        "id": "E0ScT_bc3ssY"
      },
      "id": "E0ScT_bc3ssY",
      "execution_count": 32,
      "outputs": []
    },
    {
      "cell_type": "code",
      "execution_count": 34,
      "id": "72ca617f",
      "metadata": {
        "id": "72ca617f"
      },
      "outputs": [],
      "source": [
        "def huffman_encode(weights):\n",
        "    frequency = Counter(data)\n",
        "\n",
        "    heap = [HuffmanNode(char, freq) for char, freq in frequency.items()]\n",
        "    heapq.heapify(heap)\n",
        "\n",
        "    while len(heap) > 1:\n",
        "        left = heapq.heappop(heap)\n",
        "        right = heapq.heappop(heap)\n",
        "        merged = HuffmanNode(None, left.freq + right.freq, left, right)\n",
        "        heapq.heappush(heap, merged)\n",
        "\n",
        "    huffman_tree = heapq.heappop(heap)\n",
        "\n",
        "    huff_dict = {}\n",
        "\n",
        "    def assign_codes(node, code=\"\"):\n",
        "        if node.char is not None:\n",
        "            huff_dict[node.char] = code\n",
        "        else:\n",
        "            assign_codes(node.left, code + \"0\")\n",
        "            assign_codes(node.right, code + \"1\")\n",
        "\n",
        "    assign_codes(huffman_tree)\n",
        "\n",
        "    encoded_data = ''.join(huff_dict[char] for char in data)\n",
        "\n",
        "    return encoded_data, huff_dict"
      ]
    },
    {
      "cell_type": "code",
      "source": [
        "def huffman_decode(encoded_data, huff_dict):\n",
        "    reverse_huff_dict = {v: k for k, v in huff_dict.items()}\n",
        "    decoded_data = []\n",
        "    current_code = \"\"\n",
        "\n",
        "    for bit in encoded_data:\n",
        "        current_code += bit\n",
        "        if current_code in reverse_huff_dict:\n",
        "            decoded_data.append(reverse_huff_dict[current_code])\n",
        "            current_code = \"\"\n",
        "\n",
        "    return ''.join(decoded_data)"
      ],
      "metadata": {
        "id": "zuOMbla038dI"
      },
      "id": "zuOMbla038dI",
      "execution_count": 35,
      "outputs": []
    },
    {
      "cell_type": "code",
      "source": [
        "data = \"ABRACADABRA\"\n",
        "encoded_data, huff_dict = huffman_encode(data)\n",
        "print(f\"Закодированные данные: {encoded_data}\")\n",
        "# Закодированные данные: 01101001110011110110100\n",
        "\n",
        "decoded_data = huffman_decode(encoded_data, huff_dict)\n",
        "print(f\"Декодированные данные: {decoded_data}\")\n",
        "# Декодированные данные: ABRACADABRA"
      ],
      "metadata": {
        "colab": {
          "base_uri": "https://localhost:8080/"
        },
        "id": "QeP1Qa6s3_ix",
        "outputId": "9ac8587a-35bd-44a6-92d8-4e12bb550f61"
      },
      "id": "QeP1Qa6s3_ix",
      "execution_count": 36,
      "outputs": [
        {
          "output_type": "stream",
          "name": "stdout",
          "text": [
            "Закодированные данные: 01111100101010001111100\n",
            "Декодированные данные: ABRACADABRA\n"
          ]
        }
      ]
    },
    {
      "cell_type": "markdown",
      "id": "20208470",
      "metadata": {
        "id": "20208470"
      },
      "source": [
        "#### Посчитаем Хаффмана на наших квантизированных весах"
      ]
    },
    {
      "cell_type": "code",
      "execution_count": 48,
      "id": "d806dd90",
      "metadata": {
        "id": "d806dd90"
      },
      "outputs": [],
      "source": [
        "encoded_data, huffman_dict = huffman_encode(quantized_weights)"
      ]
    },
    {
      "cell_type": "markdown",
      "id": "af9b2ac2",
      "metadata": {
        "ExecuteTime": {
          "end_time": "2024-10-09T05:57:14.081268Z",
          "start_time": "2024-10-09T05:57:14.071921Z"
        },
        "id": "af9b2ac2"
      },
      "source": [
        "## Бит пакинг"
      ]
    },
    {
      "cell_type": "markdown",
      "id": "7478ec04",
      "metadata": {
        "id": "7478ec04"
      },
      "source": [
        "**Бит-паккинг (bit-packing)** — это техника сжатия данных, при которой несколько чисел или символов, представленных в виде бит, “упаковываются” в одно или несколько целых чисел (байтов или слов) с целью минимизировать занимаемую память. Этот метод особенно эффективен, если числа или коды занимают меньше бит, чем стандартный размер ячейки памяти (например, 8 бит для байта или 32 бит для целого числа).\n"
      ]
    },
    {
      "cell_type": "markdown",
      "id": "0521045b",
      "metadata": {
        "ExecuteTime": {
          "end_time": "2024-10-09T06:12:12.023231Z",
          "start_time": "2024-10-09T06:12:12.015483Z"
        },
        "id": "0521045b"
      },
      "source": [
        "### Основная идея:"
      ]
    },
    {
      "cell_type": "markdown",
      "id": "269f6962",
      "metadata": {
        "id": "269f6962"
      },
      "source": [
        "Если каждая единица данных (например, число или символ) требует меньше бит, чем стандартная ячейка памяти, можно “упаковать” несколько таких единиц данных в одну ячейку, чтобы избежать потерь памяти на неиспользуемые биты. Это позволяет эффективно использовать пространство памяти и уменьшить общий объём данных."
      ]
    },
    {
      "cell_type": "markdown",
      "id": "b30cfb96",
      "metadata": {
        "id": "b30cfb96"
      },
      "source": [
        "### Пример использования бит-паккинга после кодирования Хаффмана"
      ]
    },
    {
      "cell_type": "markdown",
      "id": "10b5d931",
      "metadata": {
        "id": "10b5d931"
      },
      "source": [
        "После кодирования Хаффмана символы данных преобразуются в коды разной длины (в битах). Например, для часто встречающихся символов коды будут короткими (например, 2 или 3 бита), а для редких символов — длинными (например, 6 или 7 бит). Однако стандартные структуры данных Python (например, массивы байтов) используют 8-битные ячейки памяти, что может привести к неэффективному использованию памяти, если не применить бит-паккинг."
      ]
    },
    {
      "cell_type": "markdown",
      "id": "a3513423",
      "metadata": {
        "id": "a3513423"
      },
      "source": [
        "### Почему бит-паккинг полезен после кодирования Хаффмана?"
      ]
    },
    {
      "cell_type": "markdown",
      "id": "c4694c0b",
      "metadata": {
        "id": "c4694c0b"
      },
      "source": [
        "После кодирования Хаффмана мы получаем строку из 0 и 1 разной длины для каждого символа. Например:\n",
        "```python\n",
        "A -> 0\n",
        "B -> 110\n",
        "C -> 1001\n",
        "```\n",
        "\n",
        "Закодированная строка после Хаффмана может выглядеть так: 011011001. Если мы будем хранить эту строку побитно в стандартных байтах, это может занять больше места, чем нужно, так как каждый символ по умолчанию занимает 8 бит. Однако с помощью бит-паккинга можно эффективно “упаковать” эти коды в минимально возможное количество байтов."
      ]
    },
    {
      "cell_type": "markdown",
      "id": "d88d5710",
      "metadata": {
        "ExecuteTime": {
          "end_time": "2024-10-09T06:26:27.023772Z",
          "start_time": "2024-10-09T06:26:27.012803Z"
        },
        "id": "d88d5710"
      },
      "source": [
        "### Пример"
      ]
    },
    {
      "cell_type": "markdown",
      "id": "7f86dff2",
      "metadata": {
        "ExecuteTime": {
          "end_time": "2024-10-09T06:26:52.594045Z",
          "start_time": "2024-10-09T06:26:52.577393Z"
        },
        "id": "7f86dff2"
      },
      "source": [
        "Предположим, у нас есть коды:\n",
        "\n",
        "```python\n",
        "A -> 0 (1 бит)\n",
        "B -> 110 (3 бита)\n",
        "C -> 1001 (4 бита)\n",
        "```\n",
        "\n",
        "После кодирования строки “AABAC”, мы получаем последовательность бит: 0110110011001. Данная строка может быть запакована в 2 байта:\n",
        "- В первом байте хранится значение 01101101 (первые 8 бит).\n",
        "- Во втором байте хранится значение 10011000 (оставшиеся 5 бит и заполненные нулями).\n",
        "\n",
        "Реализуйте функцию `bit_packing`, которая упаковывает входную битовую строку в набор байт.\n",
        "\n",
        "```python\n",
        "encoded_data = \"0110110011001\"\n",
        "packed_data = bit_packing(encoded_data)\n",
        "\n",
        "print(f\"Упакованные данные: {packed_data}\")\n",
        "Упакованные данные: b'l\\xc8'\n",
        "print(f\"Длина упакованных данных: {len(packed_data)} байт\")\n",
        "Длина упакованных данных: 2 байт\n",
        "```"
      ]
    },
    {
      "cell_type": "code",
      "execution_count": 65,
      "id": "7829304c",
      "metadata": {
        "id": "7829304c"
      },
      "outputs": [],
      "source": [
        "def bit_packing(bit_string):\n",
        "    padding = (8 - len(bit_string) % 8) % 8\n",
        "    bit_string_padded = bit_string + '0' * padding\n",
        "\n",
        "    packed_data = bytearray()\n",
        "    for i in range(0, len(bit_string_padded), 8):\n",
        "        byte = bit_string_padded[i:i+8]\n",
        "        packed_data.append(int(byte, 2))\n",
        "\n",
        "    return bytes(packed_data), padding"
      ]
    },
    {
      "cell_type": "markdown",
      "source": [
        "Проверка"
      ],
      "metadata": {
        "id": "RB7nHJPI6Syw"
      },
      "id": "RB7nHJPI6Syw"
    },
    {
      "cell_type": "code",
      "source": [
        "packed_data, padding = bit_packing(encoded_data)\n",
        "print(f\"Упакованные данные: {packed_data}\")\n",
        "print(f\"Длина упакованных данных: {len(packed_data)} байт\")"
      ],
      "metadata": {
        "colab": {
          "base_uri": "https://localhost:8080/"
        },
        "id": "-__xsT6k6E70",
        "outputId": "a3817c8d-81a1-4fc9-d83f-3300f5a7a775"
      },
      "id": "-__xsT6k6E70",
      "execution_count": 72,
      "outputs": [
        {
          "output_type": "stream",
          "name": "stdout",
          "text": [
            "Упакованные данные: b'|\\xa8\\xf8'\n",
            "Длина упакованных данных: 3 байт\n"
          ]
        }
      ]
    },
    {
      "cell_type": "markdown",
      "id": "b8861fa7",
      "metadata": {
        "id": "b8861fa7"
      },
      "source": [
        "Реализуйте функцию `bit_unpacking`, которая распаковывет набор байт в битовую строку.\n",
        "```python\n",
        "unpacked_data = bit_unpacking(packed_data)\n",
        "print(f\"Распакованные данные: {unpacked_data}\")\n",
        "Распакованные данные: 0110110011001000\n",
        "```"
      ]
    },
    {
      "cell_type": "code",
      "execution_count": 68,
      "id": "85dee977",
      "metadata": {
        "id": "85dee977"
      },
      "outputs": [],
      "source": [
        "def bit_unpacking(packed_data, padding):\n",
        "    bit_string = ''.join(f\"{byte:08b}\" for byte in packed_data)\n",
        "    if padding > 0:\n",
        "        bit_string = bit_string[:-padding]\n",
        "\n",
        "    return bit_string"
      ]
    },
    {
      "cell_type": "markdown",
      "id": "00106b96",
      "metadata": {
        "id": "00106b96"
      },
      "source": [
        "#### Теперь запакуем закодированные данные"
      ]
    },
    {
      "cell_type": "code",
      "execution_count": 71,
      "id": "cf921a6f",
      "metadata": {
        "id": "cf921a6f"
      },
      "outputs": [],
      "source": [
        "packed_data = bit_packing(encoded_data)"
      ]
    },
    {
      "cell_type": "markdown",
      "source": [
        "Проверка"
      ],
      "metadata": {
        "id": "xR5DK_6-6Hod"
      },
      "id": "xR5DK_6-6Hod"
    },
    {
      "cell_type": "code",
      "source": [
        "unpacked_data = bit_unpacking(packed_data, padding)\n",
        "print(f\"Распакованные данные: {unpacked_data}\")"
      ],
      "metadata": {
        "colab": {
          "base_uri": "https://localhost:8080/"
        },
        "id": "8JqgI4cB6W90",
        "outputId": "32ff6276-fa50-461d-9caf-764b74347d31"
      },
      "id": "8JqgI4cB6W90",
      "execution_count": 73,
      "outputs": [
        {
          "output_type": "stream",
          "name": "stdout",
          "text": [
            "Распакованные данные: 01111100101010001111100\n"
          ]
        }
      ]
    },
    {
      "cell_type": "markdown",
      "id": "88f2d9a4",
      "metadata": {
        "ExecuteTime": {
          "end_time": "2024-10-10T04:32:17.942365Z",
          "start_time": "2024-10-10T04:32:17.926218Z"
        },
        "id": "88f2d9a4"
      },
      "source": [
        "## Запись и чтение в файл"
      ]
    },
    {
      "cell_type": "markdown",
      "id": "114222e3",
      "metadata": {
        "ExecuteTime": {
          "end_time": "2024-10-10T04:34:50.101058Z",
          "start_time": "2024-10-10T04:34:50.085246Z"
        },
        "id": "114222e3"
      },
      "source": [
        "Работа с файлами в бинарном режиме в Python позволяет читать и записывать байты вместо текста. Это полезно для работы с бинарными данными, такими как изображения, аудиофайлы, видео, архивы и другие типы файлов, где данные представлены не в текстовом виде, а в виде байтов.\n",
        "\n",
        "### Открытие файлов в бинарном режиме\n",
        "\n",
        "Для открытия файла в бинарном режиме используются следующие режимы:\n",
        "\n",
        "- 'rb' — открыть файл для чтения в бинарном режиме.\n",
        "- 'wb' — открыть файл для записи в бинарном режиме (при этом файл перезаписывается).\n",
        "- 'ab' — открыть файл для добавления в бинарном режиме.\n",
        "- 'rb+' или 'wb+' — открыть файл для чтения и записи в бинарном режиме.\n",
        "\n",
        "### Кодирование и декодирование\n",
        "Когда вы открываете файл в бинарном режиме ('wb' или 'rb'), данные в этом файле хранятся и читаются в виде байтов. Символы в строках Python (тип str) не могут быть напрямую записаны в файл, потому что они хранятся в формате Unicode (например, UTF-8, UTF-16), а файлы оперируют байтовыми данными.\n",
        "\n",
        "- `encode()`: Преобразует строку Unicode в байты с использованием заданной кодировки (по умолчанию обычно UTF-8). Это нужно для записи текста в файл.\n",
        "- `decode()`: Преобразует байты обратно в строку Unicode, чтобы можно было прочитать текст из файла.\n",
        "\n",
        "Обратите внимание, что `packed_data` уже байты и их можно без кодирования и декодирования записывать в файл.\n"
      ]
    },
    {
      "cell_type": "markdown",
      "id": "7225b899",
      "metadata": {
        "id": "7225b899"
      },
      "source": [
        "### Пример 1: Запись в файл в бинарном режиме"
      ]
    },
    {
      "cell_type": "code",
      "execution_count": 84,
      "id": "1e555095",
      "metadata": {
        "ExecuteTime": {
          "end_time": "2024-10-10T04:57:29.280959Z",
          "start_time": "2024-10-10T04:57:29.268619Z"
        },
        "id": "1e555095"
      },
      "outputs": [],
      "source": [
        "with open('output.bin', 'wb') as f:\n",
        "    f.write(f\"{step:.6f}\\n\".encode())"
      ]
    },
    {
      "cell_type": "markdown",
      "id": "e34f006d",
      "metadata": {
        "id": "e34f006d"
      },
      "source": [
        "### Пример 2: Чтение файла в бинарном режиме"
      ]
    },
    {
      "cell_type": "code",
      "execution_count": 85,
      "id": "116026d1",
      "metadata": {
        "ExecuteTime": {
          "end_time": "2024-10-10T04:57:30.788657Z",
          "start_time": "2024-10-10T04:57:30.774142Z"
        },
        "colab": {
          "base_uri": "https://localhost:8080/"
        },
        "id": "116026d1",
        "outputId": "878d73dc-b3fc-42e4-92fb-6c2e6c8891a3"
      },
      "outputs": [
        {
          "output_type": "stream",
          "name": "stdout",
          "text": [
            "0.02\n"
          ]
        }
      ],
      "source": [
        "# Открываем файл для чтения в бинарном режиме\n",
        "with open('output.bin', 'rb') as f:\n",
        "    step = float(f.readline().strip())\n",
        "    print(step)"
      ]
    },
    {
      "cell_type": "markdown",
      "id": "3e64863e",
      "metadata": {
        "id": "3e64863e"
      },
      "source": [
        "Реализуйте функцию `write_to_file` для сохранения матрицы в сжатом формате"
      ]
    },
    {
      "cell_type": "code",
      "execution_count": 86,
      "id": "cffe2e97",
      "metadata": {
        "ExecuteTime": {
          "end_time": "2024-10-10T05:05:11.881990Z",
          "start_time": "2024-10-10T05:05:11.873553Z"
        },
        "id": "cffe2e97"
      },
      "outputs": [],
      "source": [
        "def write_to_file(filename, packed_data, huffman_dict, step, min_value, padding):\n",
        "    with open(filename, 'wb') as f:\n",
        "        f.write(packed_data)\n",
        "        f.write(padding.to_bytes(1, 'big'))\n",
        "\n",
        "        huffman_dict_serialized = pickle.dumps(huffman_dict)\n",
        "        f.write(len(huffman_dict_serialized).to_bytes(4, 'big'))\n",
        "        f.write(huffman_dict_serialized)\n",
        "\n",
        "        f.write(step.hex().encode())\n",
        "        f.write(b'\\n')\n",
        "        f.write(min_value.hex().encode())\n",
        "        f.write(b'\\n')"
      ]
    },
    {
      "cell_type": "markdown",
      "id": "2dee710f",
      "metadata": {
        "ExecuteTime": {
          "end_time": "2024-10-10T05:21:51.771160Z",
          "start_time": "2024-10-10T05:21:51.755204Z"
        },
        "id": "2dee710f"
      },
      "source": [
        "#### Сохраним в файл сжатую матрицу и параметры для восстановления"
      ]
    },
    {
      "cell_type": "code",
      "source": [
        "import pickle"
      ],
      "metadata": {
        "id": "EOfhWpFt_AKi"
      },
      "id": "EOfhWpFt_AKi",
      "execution_count": 100,
      "outputs": []
    },
    {
      "cell_type": "code",
      "execution_count": 87,
      "id": "a0abeed0",
      "metadata": {
        "ExecuteTime": {
          "end_time": "2024-10-10T05:09:41.954603Z",
          "start_time": "2024-10-10T05:09:41.944393Z"
        },
        "id": "a0abeed0"
      },
      "outputs": [],
      "source": [
        "compresed_filename = 'compressed_data.bin'"
      ]
    },
    {
      "cell_type": "code",
      "execution_count": 101,
      "id": "0ba37e3e",
      "metadata": {
        "id": "0ba37e3e"
      },
      "outputs": [],
      "source": [
        "write_to_file(compresed_filename, packed_data, huffman_dict, step, min_value, padding)"
      ]
    },
    {
      "cell_type": "markdown",
      "id": "4a4b0f41",
      "metadata": {
        "id": "4a4b0f41"
      },
      "source": [
        "Реализуйте функцию `read_from_file` для чтения матрицы и сохраненной информации необходимой для восстановления матрицы."
      ]
    },
    {
      "cell_type": "code",
      "execution_count": 112,
      "id": "4e2fb75f",
      "metadata": {
        "id": "4e2fb75f"
      },
      "outputs": [],
      "source": [
        "def read_from_file(filename):\n",
        "    with open(filename, 'rb') as f:\n",
        "        packed_data = f.read()\n",
        "        padding = packed_data[-1]\n",
        "        packed_data = packed_data[:-1]\n",
        "\n",
        "        huffman_dict_length = int.from_bytes(packed_data[-4:], 'big')\n",
        "        packed_data = packed_data[:-4]\n",
        "\n",
        "        huffman_dict_serialized = packed_data[-huffman_dict_length:]\n",
        "        packed_data = packed_data[:-huffman_dict_length]\n",
        "\n",
        "        try:\n",
        "            huffman_dict = pickle.loads(huffman_dict_serialized)\n",
        "        except EOFError as e:\n",
        "            print(f\"Ошибка десериализации: {e}\")\n",
        "            raise\n",
        "\n",
        "        step_hex = packed_data[-16:].decode()\n",
        "        min_value_hex = packed_data[-32:-16].decode()\n",
        "\n",
        "        try:\n",
        "            step = float.fromhex(step_hex)\n",
        "            min_value = float.fromhex(min_value_hex)\n",
        "        except ValueError as e:\n",
        "            print(f\"Ошибка преобразования значений: {e}\")\n",
        "            raise\n",
        "\n",
        "        return packed_data, huffman_dict, step, min_value"
      ]
    },
    {
      "cell_type": "markdown",
      "id": "30942ae5",
      "metadata": {
        "ExecuteTime": {
          "end_time": "2024-10-10T05:22:35.802282Z",
          "start_time": "2024-10-10T05:22:35.791885Z"
        },
        "id": "30942ae5"
      },
      "source": [
        "#### Прочитаем файл и восстановим данные"
      ]
    },
    {
      "cell_type": "code",
      "execution_count": 113,
      "id": "9c5ee17a",
      "metadata": {
        "colab": {
          "base_uri": "https://localhost:8080/",
          "height": 324
        },
        "id": "9c5ee17a",
        "outputId": "7a8f8795-4d67-4cdf-8286-fe4694b52537"
      },
      "outputs": [
        {
          "output_type": "error",
          "ename": "UnpicklingError",
          "evalue": "invalid load key, '|'.",
          "traceback": [
            "\u001b[0;31m---------------------------------------------------------------------------\u001b[0m",
            "\u001b[0;31mUnpicklingError\u001b[0m                           Traceback (most recent call last)",
            "\u001b[0;32m<ipython-input-113-09c90530293a>\u001b[0m in \u001b[0;36m<cell line: 1>\u001b[0;34m()\u001b[0m\n\u001b[0;32m----> 1\u001b[0;31m \u001b[0mpacked_data\u001b[0m\u001b[0;34m,\u001b[0m \u001b[0mhuffman_dict\u001b[0m\u001b[0;34m,\u001b[0m \u001b[0mstep\u001b[0m\u001b[0;34m,\u001b[0m \u001b[0mmin_value\u001b[0m \u001b[0;34m=\u001b[0m \u001b[0mread_from_file\u001b[0m\u001b[0;34m(\u001b[0m\u001b[0mcompresed_filename\u001b[0m\u001b[0;34m)\u001b[0m\u001b[0;34m\u001b[0m\u001b[0;34m\u001b[0m\u001b[0m\n\u001b[0m\u001b[1;32m      2\u001b[0m \u001b[0munpacked_bits\u001b[0m \u001b[0;34m=\u001b[0m \u001b[0mbit_unpacking\u001b[0m\u001b[0;34m(\u001b[0m\u001b[0mpacked_data\u001b[0m\u001b[0;34m)\u001b[0m\u001b[0;34m\u001b[0m\u001b[0;34m\u001b[0m\u001b[0m\n\u001b[1;32m      3\u001b[0m \u001b[0mdecoded_weights\u001b[0m \u001b[0;34m=\u001b[0m \u001b[0mhuffman_decode\u001b[0m\u001b[0;34m(\u001b[0m\u001b[0munpacked_bits\u001b[0m\u001b[0;34m,\u001b[0m \u001b[0mhuffman_dict\u001b[0m\u001b[0;34m)\u001b[0m\u001b[0;34m\u001b[0m\u001b[0;34m\u001b[0m\u001b[0m\n\u001b[1;32m      4\u001b[0m \u001b[0mrecovered_weights\u001b[0m \u001b[0;34m=\u001b[0m \u001b[0mdequantize_weights\u001b[0m\u001b[0;34m(\u001b[0m\u001b[0mdecoded_weights\u001b[0m\u001b[0;34m,\u001b[0m \u001b[0mstep\u001b[0m\u001b[0;34m,\u001b[0m \u001b[0mmin_value\u001b[0m\u001b[0;34m)\u001b[0m\u001b[0;34m\u001b[0m\u001b[0;34m\u001b[0m\u001b[0m\n",
            "\u001b[0;32m<ipython-input-112-e5309881744c>\u001b[0m in \u001b[0;36mread_from_file\u001b[0;34m(filename)\u001b[0m\n\u001b[1;32m     12\u001b[0m \u001b[0;34m\u001b[0m\u001b[0m\n\u001b[1;32m     13\u001b[0m         \u001b[0;32mtry\u001b[0m\u001b[0;34m:\u001b[0m\u001b[0;34m\u001b[0m\u001b[0;34m\u001b[0m\u001b[0m\n\u001b[0;32m---> 14\u001b[0;31m             \u001b[0mhuffman_dict\u001b[0m \u001b[0;34m=\u001b[0m \u001b[0mpickle\u001b[0m\u001b[0;34m.\u001b[0m\u001b[0mloads\u001b[0m\u001b[0;34m(\u001b[0m\u001b[0mhuffman_dict_serialized\u001b[0m\u001b[0;34m)\u001b[0m\u001b[0;34m\u001b[0m\u001b[0;34m\u001b[0m\u001b[0m\n\u001b[0m\u001b[1;32m     15\u001b[0m         \u001b[0;32mexcept\u001b[0m \u001b[0mEOFError\u001b[0m \u001b[0;32mas\u001b[0m \u001b[0me\u001b[0m\u001b[0;34m:\u001b[0m\u001b[0;34m\u001b[0m\u001b[0;34m\u001b[0m\u001b[0m\n\u001b[1;32m     16\u001b[0m             \u001b[0mprint\u001b[0m\u001b[0;34m(\u001b[0m\u001b[0;34mf\"Ошибка десериализации: {e}\"\u001b[0m\u001b[0;34m)\u001b[0m\u001b[0;34m\u001b[0m\u001b[0;34m\u001b[0m\u001b[0m\n",
            "\u001b[0;31mUnpicklingError\u001b[0m: invalid load key, '|'."
          ]
        }
      ],
      "source": [
        "packed_data, huffman_dict, step, min_value = read_from_file(compresed_filename)\n",
        "unpacked_bits = bit_unpacking(packed_data)\n",
        "decoded_weights = huffman_decode(unpacked_bits, huffman_dict)\n",
        "recovered_weights = dequantize_weights(decoded_weights, step, min_value)"
      ]
    },
    {
      "cell_type": "markdown",
      "id": "a8a160cf",
      "metadata": {
        "ExecuteTime": {
          "end_time": "2024-10-10T05:24:02.925348Z",
          "start_time": "2024-10-10T05:24:02.915874Z"
        },
        "id": "a8a160cf"
      },
      "source": [
        "#### Посчитаем максимальную ошибку в полученных данных (во время квантизации мы теряли часть данных)"
      ]
    },
    {
      "cell_type": "code",
      "execution_count": 114,
      "id": "59ef1c16",
      "metadata": {
        "colab": {
          "base_uri": "https://localhost:8080/"
        },
        "id": "59ef1c16",
        "outputId": "d735a4e9-5a98-4656-804a-45c418a191c2"
      },
      "outputs": [
        {
          "output_type": "execute_result",
          "data": {
            "text/plain": [
              "0.009999437147343082"
            ]
          },
          "metadata": {},
          "execution_count": 114
        }
      ],
      "source": [
        "max([abs(w - rw) for w, rw in zip(weights, recovered_weights)])"
      ]
    },
    {
      "cell_type": "markdown",
      "id": "493e1c44",
      "metadata": {
        "id": "493e1c44"
      },
      "source": [
        "#### Теперь посчитаем сколько весит сохраненные данные:"
      ]
    },
    {
      "cell_type": "code",
      "execution_count": 115,
      "id": "8d383cd1",
      "metadata": {
        "ExecuteTime": {
          "end_time": "2024-10-10T05:37:00.714074Z",
          "start_time": "2024-10-10T05:37:00.702289Z"
        },
        "id": "8d383cd1"
      },
      "outputs": [],
      "source": [
        "def get_size(filename):\n",
        "    return os.stat(filename).st_size / (1024 * 1024)"
      ]
    },
    {
      "cell_type": "code",
      "execution_count": 116,
      "id": "73de1f8a",
      "metadata": {
        "ExecuteTime": {
          "end_time": "2024-10-10T05:37:01.772354Z",
          "start_time": "2024-10-10T05:37:01.756816Z"
        },
        "colab": {
          "base_uri": "https://localhost:8080/"
        },
        "id": "73de1f8a",
        "outputId": "02336ffa-e68a-4c3d-bec9-d302a01eb88c"
      },
      "outputs": [
        {
          "output_type": "stream",
          "name": "stdout",
          "text": [
            "Размер файла в мегабайтах 0.00010967254638671875\n"
          ]
        }
      ],
      "source": [
        "import os\n",
        "print(f'Размер файла в мегабайтах {get_size(compresed_filename)}')"
      ]
    },
    {
      "cell_type": "markdown",
      "id": "2f8fce2c",
      "metadata": {
        "ExecuteTime": {
          "end_time": "2024-10-10T05:12:35.663420Z",
          "start_time": "2024-10-10T05:12:35.650459Z"
        },
        "id": "2f8fce2c"
      },
      "source": [
        "Воспользуемся пакетом `struct` для упаковывания флотов в бинарный формат для оригинальных весов."
      ]
    },
    {
      "cell_type": "code",
      "execution_count": 117,
      "id": "15843b99",
      "metadata": {
        "ExecuteTime": {
          "end_time": "2024-10-10T05:37:04.016594Z",
          "start_time": "2024-10-10T05:37:03.998200Z"
        },
        "id": "15843b99"
      },
      "outputs": [],
      "source": [
        "import struct\n",
        "original_filename = 'original_data.bin'\n",
        "\n",
        "with open(compresed_filename, 'wb') as f:\n",
        "    for number in weights:\n",
        "        packed_data = struct.pack('f', number)\n",
        "        f.write(packed_data)"
      ]
    },
    {
      "cell_type": "code",
      "execution_count": 118,
      "id": "4fb3fb9f",
      "metadata": {
        "ExecuteTime": {
          "end_time": "2024-10-10T05:37:04.674079Z",
          "start_time": "2024-10-10T05:37:04.656859Z"
        },
        "colab": {
          "base_uri": "https://localhost:8080/",
          "height": 163
        },
        "id": "4fb3fb9f",
        "outputId": "5ed1e72b-05a6-4f13-f797-2aa0bdf81587"
      },
      "outputs": [
        {
          "output_type": "error",
          "ename": "FileNotFoundError",
          "evalue": "[Errno 2] No such file or directory: 'original_data.bin'",
          "traceback": [
            "\u001b[0;31m---------------------------------------------------------------------------\u001b[0m",
            "\u001b[0;31mFileNotFoundError\u001b[0m                         Traceback (most recent call last)",
            "\u001b[0;32m<ipython-input-118-1a9522beea65>\u001b[0m in \u001b[0;36m<cell line: 1>\u001b[0;34m()\u001b[0m\n\u001b[0;32m----> 1\u001b[0;31m \u001b[0mfile_stats\u001b[0m \u001b[0;34m=\u001b[0m \u001b[0mos\u001b[0m\u001b[0;34m.\u001b[0m\u001b[0mstat\u001b[0m\u001b[0;34m(\u001b[0m\u001b[0moriginal_filename\u001b[0m\u001b[0;34m)\u001b[0m\u001b[0;34m\u001b[0m\u001b[0;34m\u001b[0m\u001b[0m\n\u001b[0m\u001b[1;32m      2\u001b[0m \u001b[0mprint\u001b[0m\u001b[0;34m(\u001b[0m\u001b[0;34mf'Размер файла в мегабайтах {get_size(original_filename)}'\u001b[0m\u001b[0;34m)\u001b[0m\u001b[0;34m\u001b[0m\u001b[0;34m\u001b[0m\u001b[0m\n",
            "\u001b[0;31mFileNotFoundError\u001b[0m: [Errno 2] No such file or directory: 'original_data.bin'"
          ]
        }
      ],
      "source": [
        "file_stats = os.stat(original_filename)\n",
        "print(f'Размер файла в мегабайтах {get_size(original_filename)}')"
      ]
    },
    {
      "cell_type": "markdown",
      "id": "5f50dca0",
      "metadata": {
        "id": "5f50dca0"
      },
      "source": [
        "# Поздравляю, языковые модели сжимать мы теперь умееем!"
      ]
    }
  ],
  "metadata": {
    "kernelspec": {
      "display_name": "Python 3 (ipykernel)",
      "language": "python",
      "name": "python3"
    },
    "language_info": {
      "codemirror_mode": {
        "name": "ipython",
        "version": 3
      },
      "file_extension": ".py",
      "mimetype": "text/x-python",
      "name": "python",
      "nbconvert_exporter": "python",
      "pygments_lexer": "ipython3",
      "version": "3.9.7"
    },
    "colab": {
      "provenance": []
    }
  },
  "nbformat": 4,
  "nbformat_minor": 5
}