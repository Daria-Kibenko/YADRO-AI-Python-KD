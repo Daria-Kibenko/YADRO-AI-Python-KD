{
  "cells": [
    {
      "cell_type": "markdown",
      "id": "1d227b09",
      "metadata": {
        "id": "1d227b09"
      },
      "source": [
        "# Парное выравнивание"
      ]
    },
    {
      "cell_type": "markdown",
      "id": "d33c83c9",
      "metadata": {
        "id": "d33c83c9"
      },
      "source": [
        "# Введение\n",
        "\n",
        "**Выравнивание последовательностей** — фундаментальный инструмент в биоинформатике, позволяющий сравнивать биологические последовательности (ДНК, РНК, белки) для выявления сходства, которое может указывать на функциональные, структурные или эволюционные связи между ними.\n",
        "\n",
        "**Парное выравнивание** подразумевает сравнение двух последовательностей для определения наилучшего соответствия между их элементами (нуклеотидами или аминокислотами). Существует два основных типа парного выравнивания:\n",
        "\n",
        "- **Глобальное выравнивание**: направлено на выравнивание всей длины двух последовательностей, максимально учитывая все элементы.\n",
        "- **Локальное выравнивание**: нацелено на поиск наилучшего соответствующего участка внутри двух последовательностей.\n",
        "\n",
        "В данном домашнем задании мы с вами сконцентрируемся на **глобальном выравнивании**."
      ]
    },
    {
      "cell_type": "markdown",
      "id": "3265888c",
      "metadata": {
        "id": "3265888c"
      },
      "source": [
        "### Пример парного выравнивания\n",
        "\n",
        "Рассмотрим две нуклеотидные последовательности:\n",
        "\n",
        "```\n",
        "Последовательность 1 (Seq1): A G C T A C G A\n",
        "Последовательность 2 (Seq2): G C T A G A\n",
        "```\n",
        "\n",
        "**Глобальное выравнивание** (учитывает всю длину последовательностей):\n",
        "\n",
        "```\n",
        "Seq1: A G C T A C G A\n",
        "Seq2: - G C T A - G A\n",
        "```"
      ]
    },
    {
      "cell_type": "markdown",
      "id": "575fa50e",
      "metadata": {
        "id": "575fa50e"
      },
      "source": [
        "### Значение выравнивания последовательностей\n",
        "\n",
        "- **Эволюционные связи**: Сходство между последовательностями может указывать на общих предков.\n",
        "- **Функциональные домены**: Выравнивание помогает идентифицировать консервативные участки, важные для функции белка или нуклеиновой кислоты.\n",
        "- **Геномные исследования**: Используется для аннотации генов, предсказания структур и понимания генетических вариаций."
      ]
    },
    {
      "cell_type": "markdown",
      "id": "75ff52f7",
      "metadata": {
        "id": "75ff52f7"
      },
      "source": [
        "## Алгоритм выравнивания\n",
        "\n",
        "- Для автоматизации процесса выравнивания используется **Алгоритм Нидлмана-Вунша**. Он предназначен для глобального выравнивания и использует динамическое программирование для нахождения оптимального выравнивания по всей длине последовательностей.\n",
        "- Для оценки сходства при выравнивании белковых последовательностей используется матрица **BLOSUM** (Blocks Substitution Matrix). Матрицы BLOSUM создаются на основе статистического анализа реальных белковых множественных выравниваний последовательностей."
      ]
    },
    {
      "cell_type": "markdown",
      "id": "5ee2122f",
      "metadata": {
        "id": "5ee2122f"
      },
      "source": [
        "### Пример множественного выравнивания (для построения матрциы BLOSUM)\n",
        "\n",
        "Рассмотрим нуклеотидные последовательности:\n",
        "\n",
        "```\n",
        "Последовательность 1 (Seq1): A G C T A C G T G T C G C T G A A T C T A T G A C T\n",
        "Последовательность 2 (Seq2): G C T A G A G C A A G G C A A C T G C A T C T\n",
        "Последовательность 3 (Seq3): A C T G C A C C C A T G A A C C T C G C G C T\n",
        "Последовательность 4 (Seq4): A C T G C A C C C A T G A A C C T C T C G C T\n",
        "Последовательность 5 (Seq5): A C T G C A C C C A T G A A C C T C T C G C T\n",
        "Последовательность 6 (Seq6): A C T G C A C C C A T G A A C C T C T C A C T\n",
        "Последовательность 7 (Seq7): A C T G C A C C C A T G A A C C T C T C A C T\n",
        "```\n",
        "\n",
        "**Множественное выравнивание**:\n",
        "\n",
        "```\n",
        "Seq1: A G C T A C G T G T C G C T G A A T C T A T G A C T\n",
        "Seq2: - G C T A - G A G C A - A G G C A A C T G C A T C T\n",
        "Seq3: A - C T G - C A C C C - A T G A A C C T C G C G C T\n",
        "Seq4: A - C T G - C A C C C - A T G A A C C T C T C G C T\n",
        "Seq5: A - C T G - C A C C C - A T G A A C C T C T C G C T\n",
        "Seq6: A - C T G - C A C C C - A T G A A C C T C T C A C T\n",
        "Seq7: A - C T G - C A C C C - A T G A A C C T C T C A C T\n",
        "```"
      ]
    },
    {
      "cell_type": "markdown",
      "id": "fe15af34",
      "metadata": {
        "id": "fe15af34"
      },
      "source": [
        "Перед тем как приступать к реализации парного выравнивания давайте научимся считать матрицу BLOSUM."
      ]
    },
    {
      "cell_type": "markdown",
      "id": "4efffee5",
      "metadata": {
        "id": "4efffee5"
      },
      "source": [
        "# Матрица BLOSUM"
      ]
    },
    {
      "cell_type": "markdown",
      "id": "d424f7b8",
      "metadata": {
        "ExecuteTime": {
          "end_time": "2024-09-19T05:35:03.002840Z",
          "start_time": "2024-09-19T05:35:02.980986Z"
        },
        "id": "d424f7b8"
      },
      "source": [
        "## Подсчет частот пар нуклеотидов\n",
        "\n",
        "### Шаг 1.1: Генерация пар нуклеотидов\n",
        "\n",
        "Напишите функцию `generate_pairs(alignments)`, которая проходит по всем позициям выравнивания и генерирует все возможные пары нуклеотидов в этой позиции.\n",
        "\n",
        "**Пример**:\n",
        "\n",
        "Рассмотрим на примере множественного выравнивания выше:\n",
        "\n",
        "```\n",
        "generate_pairs([\"A\", \"A\", \"G\"])\n",
        "[('A', 'A'), ('A', 'G'), ('A', 'G')]\n",
        "\n",
        "generate_pairs([\"T\", \"T\", \"T\"])\n",
        "[('T', 'T'), ('T', 'T'), ('T', 'T')]\n",
        "\n",
        "generate_pairs([\"G\", \"G\", \"-\"])\n",
        "[('G', 'G'), ('G', '-'), ('G', '-')]\n",
        "\n",
        "len(generate_pairs(['A', 'T', 'G', 'G', 'G', 'A', 'A']))\n",
        "21\n",
        "```"
      ]
    },
    {
      "cell_type": "code",
      "source": [
        "from itertools import combinations"
      ],
      "metadata": {
        "id": "0pJLNokmCjY-"
      },
      "id": "0pJLNokmCjY-",
      "execution_count": 12,
      "outputs": []
    },
    {
      "cell_type": "code",
      "execution_count": 2,
      "id": "a693a08c",
      "metadata": {
        "ExecuteTime": {
          "end_time": "2024-09-20T07:42:12.795151Z",
          "start_time": "2024-09-20T07:42:12.788005Z"
        },
        "id": "a693a08c"
      },
      "outputs": [],
      "source": [
        "alignments = [\"AGCTACGTGTCGCTGAATCTATGACT\",\n",
        "              \"-GCTA-GAGCA-AGGCAACTGCATCT\",\n",
        "              \"A-CTG-CACCC-ATGAACCTCGCGCT\",\n",
        "              \"A-CTG-CACCC-ATGAACCTCTCGCT\",\n",
        "              \"A-CTG-CACCC-ATGAACCTCTCGCT\",\n",
        "              \"A-CTG-CACCC-ATGAACCTCTCACT\",\n",
        "              \"A-CTG-CACCC-ATGAACCTCTCACT\"\n",
        "             ]"
      ]
    },
    {
      "cell_type": "code",
      "execution_count": 44,
      "id": "cc0fda11",
      "metadata": {
        "ExecuteTime": {
          "end_time": "2024-09-20T07:42:12.798926Z",
          "start_time": "2024-09-20T07:42:12.796705Z"
        },
        "id": "cc0fda11"
      },
      "outputs": [],
      "source": [
        "def generate_pairs(column):\n",
        "    pairs = []\n",
        "    for pair in combinations(column, 2):\n",
        "        if '-' not in pair:\n",
        "            pairs.append(tuple(sorted(pair)))\n",
        "    return pairs"
      ]
    },
    {
      "cell_type": "code",
      "source": [
        "print(generate_pairs([\"A\", \"A\", \"G\"]))\n",
        "print(generate_pairs([\"T\", \"T\", \"T\"]))\n",
        "print(generate_pairs([\"G\", \"G\", \"-\"]))"
      ],
      "metadata": {
        "colab": {
          "base_uri": "https://localhost:8080/"
        },
        "id": "5savbytHBi6p",
        "outputId": "aa47c248-654c-47d5-c15d-9f461ee47255"
      },
      "id": "5savbytHBi6p",
      "execution_count": 45,
      "outputs": [
        {
          "output_type": "stream",
          "name": "stdout",
          "text": [
            "[('A', 'A'), ('A', 'G'), ('A', 'G')]\n",
            "[('T', 'T'), ('T', 'T'), ('T', 'T')]\n",
            "[('G', 'G')]\n"
          ]
        }
      ]
    },
    {
      "cell_type": "code",
      "source": [
        "print(len(generate_pairs(['A', 'T', 'G', 'G', 'G', 'A', 'A'])))"
      ],
      "metadata": {
        "colab": {
          "base_uri": "https://localhost:8080/"
        },
        "id": "3LLySYaPBjQC",
        "outputId": "6e36b877-e9eb-47a8-a7ce-0bf7fdc2c864"
      },
      "id": "3LLySYaPBjQC",
      "execution_count": 46,
      "outputs": [
        {
          "output_type": "stream",
          "name": "stdout",
          "text": [
            "21\n"
          ]
        }
      ]
    },
    {
      "cell_type": "markdown",
      "source": [],
      "metadata": {
        "id": "Y2mo6mMebU_2"
      },
      "id": "Y2mo6mMebU_2"
    },
    {
      "cell_type": "markdown",
      "id": "b2a33a17",
      "metadata": {
        "id": "b2a33a17"
      },
      "source": [
        "### Шаг 1.2: Подсчет частот пар\n",
        "\n",
        "Используйте полученные пары для подсчета частоты каждой пары нуклеотидов. Создайте словарь `pair_counts`, где ключом является кортеж из двух нуклеотидов, а значением — количество их совместных появлений. Пропуски в выравнивании нужно пропускать (если один из символ в выравнивании `'-'`)\n",
        "\n",
        "**Подсказка**: Учитывайте, что матрица симметрична, поэтому пары `('A','G')` и `('G','A')` должны считаться одинаковыми.\n",
        "\n",
        "**Пример**:\n",
        "\n",
        "```\n",
        "pair_counts = count_pairs(alignments)\n",
        "pair_counts\n",
        "{('A', 'A'): 38, ('G', 'G'): 16, ('C', 'C'): 57, ('T', 'T'): 39, ('A', 'G'): 11,\n",
        " ('C', 'G'): 19, ('A', 'T'): 8, ('C', 'T'): 10, ('A', 'C'): 21, ('G', 'T'): 8}}\n",
        "```"
      ]
    },
    {
      "cell_type": "code",
      "source": [
        "from collections import defaultdict"
      ],
      "metadata": {
        "id": "fFLa3WQYCgkw"
      },
      "id": "fFLa3WQYCgkw",
      "execution_count": 52,
      "outputs": []
    },
    {
      "cell_type": "code",
      "execution_count": 53,
      "id": "70cc891c",
      "metadata": {
        "ExecuteTime": {
          "end_time": "2024-09-20T07:42:12.805520Z",
          "start_time": "2024-09-20T07:42:12.803627Z"
        },
        "id": "70cc891c"
      },
      "outputs": [],
      "source": [
        "def count_pairs(alignments):\n",
        "    pair_counts = defaultdict(int)\n",
        "\n",
        "    for i in range(len(alignments[0])):\n",
        "        column = [alignment[i] for alignment in alignments]\n",
        "        pairs = generate_pairs(column)\n",
        "\n",
        "        for pair in pairs:\n",
        "            pair_counts[pair] += 1\n",
        "\n",
        "    return dict(pair_counts)"
      ]
    },
    {
      "cell_type": "code",
      "source": [
        "pair_counts = count_pairs(alignments)\n",
        "print(pair_counts)"
      ],
      "metadata": {
        "colab": {
          "base_uri": "https://localhost:8080/"
        },
        "id": "Sk6GnG7eCUMo",
        "outputId": "7e7da30f-756a-4f72-8090-fc33fcc5b6ce"
      },
      "id": "Sk6GnG7eCUMo",
      "execution_count": 54,
      "outputs": [
        {
          "output_type": "stream",
          "name": "stdout",
          "text": [
            "{('A', 'A'): 85, ('G', 'G'): 37, ('C', 'C'): 143, ('T', 'T'): 88, ('A', 'G'): 21, ('C', 'G'): 31, ('A', 'T'): 10, ('C', 'T'): 16, ('A', 'C'): 33, ('G', 'T'): 14}\n"
          ]
        }
      ]
    },
    {
      "cell_type": "markdown",
      "id": "528faeca",
      "metadata": {
        "id": "528faeca"
      },
      "source": [
        "## Вычисление ожидаемых частот"
      ]
    },
    {
      "cell_type": "markdown",
      "id": "351ef841",
      "metadata": {
        "ExecuteTime": {
          "end_time": "2024-09-19T07:27:32.026037Z",
          "start_time": "2024-09-19T07:27:32.008635Z"
        },
        "id": "351ef841"
      },
      "source": [
        "Реализуйте функцию `calculate_frequencies`, которая будет вычислять частоту нуклеотида по множественному выравниванию\n",
        "\n",
        "**Пример**:\n",
        "\n",
        "```\n",
        "freqs = calculate_frequencies(alignments)\n",
        "print(\"Частоты:\")\n",
        "for x, freq in freqs.items():\n",
        "    print(f\"{x}: {freq:.4f}\")\n",
        "    \n",
        "Частоты:\n",
        "A: 0.2439\n",
        "G: 0.1585\n",
        "C: 0.3780\n",
        "T: 0.2195\n",
        "```"
      ]
    },
    {
      "cell_type": "code",
      "execution_count": 13,
      "id": "ae017aee",
      "metadata": {
        "ExecuteTime": {
          "end_time": "2024-09-20T07:55:17.618141Z",
          "start_time": "2024-09-20T07:55:17.610470Z"
        },
        "id": "ae017aee"
      },
      "outputs": [],
      "source": [
        "def calculate_frequencies(alignments):\n",
        "    nucleotide_counts = defaultdict(int)\n",
        "    total_count = 0\n",
        "\n",
        "    for alignment in alignments:\n",
        "        for nucleotide in alignment:\n",
        "            if nucleotide != '-':\n",
        "                nucleotide_counts[nucleotide] += 1\n",
        "                total_count += 1\n",
        "\n",
        "    frequencies = {nuc: count / total_count for nuc, count in nucleotide_counts.items()}\n",
        "    return frequencies"
      ]
    },
    {
      "cell_type": "code",
      "source": [
        "freqs = calculate_frequencies(alignments)\n",
        "print(\"Частоты:\")\n",
        "for nuc, freq in freqs.items():\n",
        "    print(f\"{nuc}: {freq:.4f}\")"
      ],
      "metadata": {
        "colab": {
          "base_uri": "https://localhost:8080/"
        },
        "id": "Sg-LuStECtnS",
        "outputId": "ebdf0982-65aa-417a-9c4c-a1d08ecb33c8"
      },
      "id": "Sg-LuStECtnS",
      "execution_count": 14,
      "outputs": [
        {
          "output_type": "stream",
          "name": "stdout",
          "text": [
            "Частоты:\n",
            "A: 0.2439\n",
            "G: 0.1585\n",
            "C: 0.3780\n",
            "T: 0.2195\n"
          ]
        }
      ]
    },
    {
      "cell_type": "markdown",
      "id": "6bcd02ff",
      "metadata": {
        "id": "6bcd02ff"
      },
      "source": [
        "##  Расчет логарифмических коэффициентов"
      ]
    },
    {
      "cell_type": "markdown",
      "id": "056d0896",
      "metadata": {
        "id": "056d0896"
      },
      "source": [
        "- Для каждой пары нуклеотидов `(x, y)` вычислите логарифмический коэффициент замены по формуле:\n",
        "\n",
        "\n",
        "$$S(x, y) = scale * \\log_2 \\left( \\frac{observed\\_freq[x, y]}{expected\\_freq[x, y]} \\right)$$\n",
        "\n",
        "- Здесь `observed_freq` — наблюдаемая частота пары из `pair_counts` деленное на общее количество пар, а `expected_freq` — ожидаемая частота, которую можно вычислить как `expected_freq[x, y] = freqs[x] * freqs[y]`\n",
        "\n",
        "- Для удобства представления округлите значения `S(x, y)` до целых чисел, умножив на масштабный фактор (например, 3).\n",
        "\n",
        "**Пример:**\n",
        "\n",
        "```python\n",
        "scores = calculate_scores(pair_counts, freqs)\n",
        "scores\n",
        "{('A', 'A'): 4, ('G', 'G'): 4, ('C', 'C'): 2, ('T', 'T'): 6, ('A', 'G'): 1,\n",
        " ('C', 'G'): 1, ('A', 'T'): -1, ('C', 'T'): -2, ('A', 'C'): 0, ('G', 'T'): 0}\n",
        "```\n"
      ]
    },
    {
      "cell_type": "code",
      "source": [
        "import math"
      ],
      "metadata": {
        "id": "eHdKgkmiCx2g"
      },
      "id": "eHdKgkmiCx2g",
      "execution_count": 15,
      "outputs": []
    },
    {
      "cell_type": "code",
      "execution_count": 16,
      "id": "96bfcb12",
      "metadata": {
        "ExecuteTime": {
          "end_time": "2024-09-20T07:57:32.470771Z",
          "start_time": "2024-09-20T07:57:32.458314Z"
        },
        "id": "96bfcb12"
      },
      "outputs": [],
      "source": [
        "def calculate_scores(pair_counts, freqs, scale=3):\n",
        "    total_pairs = sum(pair_counts.values())\n",
        "    scores = {}\n",
        "\n",
        "    for (x, y), count in pair_counts.items():\n",
        "        observed_freq = count / total_pairs\n",
        "        expected_freq = freqs[x] * freqs[y]\n",
        "\n",
        "        if expected_freq > 0:\n",
        "            score = scale * math.log2(observed_freq / expected_freq)\n",
        "            scores[(x, y)] = round(score)\n",
        "\n",
        "    return scores"
      ]
    },
    {
      "cell_type": "code",
      "source": [
        "scores = calculate_scores(pair_counts, freqs)\n",
        "print(scores)"
      ],
      "metadata": {
        "colab": {
          "base_uri": "https://localhost:8080/"
        },
        "id": "9fd3W2jcC1CI",
        "outputId": "d086a02a-55bf-4d4c-b38f-5bc924b936bb"
      },
      "id": "9fd3W2jcC1CI",
      "execution_count": 17,
      "outputs": [
        {
          "output_type": "stream",
          "name": "stdout",
          "text": [
            "{('A', 'A'): 5, ('G', 'G'): 5, ('C', 'C'): 3, ('T', 'T'): 6, ('A', 'G'): 1, ('C', 'G'): 0, ('A', 'T'): -4, ('C', 'T'): -4, ('A', 'C'): -1, ('G', 'T'): -1}\n"
          ]
        }
      ]
    },
    {
      "cell_type": "markdown",
      "id": "876ab787",
      "metadata": {
        "id": "876ab787"
      },
      "source": [
        "\n",
        "## Составление матрицы BLOSUM\n",
        "\n",
        "### Шаг 4.1: Заполнение матрицы\n",
        "\n",
        "- Реализуйте функцию `create_blosum_matrix`, для создания BLOSUM матрицы.\n",
        "- Используйте рассчитанные ранее логарифмические коэффициенты `scores` для заполнения матрицы.\n",
        "- Учитывайте, что матрица симметрична: `S(x, y) = S(y, x)`.\n",
        "\n",
        "**Пример:**\n",
        "\n",
        "```python\n",
        "blosum_matrix = create_blosum_matrix(scores, nucleotides)\n",
        "blosum_matrix\n",
        "{'A': {'A': 4, 'G': 1, 'C': 0, 'T': -1},\n",
        " 'G': {'A': 1, 'G': 4, 'C': 1, 'T': 0},\n",
        " 'C': {'A': 0, 'G': 1, 'C': 2, 'T': -2},\n",
        " 'T': {'A': -1, 'G': 0, 'C': -2, 'T': 6}}\n",
        "```\n"
      ]
    },
    {
      "cell_type": "code",
      "source": [
        "nucleotides = ['A', 'G', 'C', 'T']\n",
        "scores = {('A', 'A'): 4, ('G', 'G'): 4, ('C', 'C'): 2, ('T', 'T'): 6,\n",
        "          ('A', 'G'): 1, ('C', 'G'): 1, ('A', 'T'): -1, ('C', 'T'): -2,\n",
        "          ('A', 'C'): 0, ('G', 'T'): 0}"
      ],
      "metadata": {
        "id": "bMT9bWGbDEXi"
      },
      "id": "bMT9bWGbDEXi",
      "execution_count": 68,
      "outputs": []
    },
    {
      "cell_type": "code",
      "source": [
        "def print_blosum_matrix(blosum_matrix, nucleotides):\n",
        "    print(\"{\")\n",
        "    for nuc1 in nucleotides:\n",
        "        print(f\" '{nuc1}': {{\", end=\"\")\n",
        "        for i, nuc2 in enumerate(nucleotides):\n",
        "            if i < len(nucleotides) - 1:\n",
        "                print(f\"'{nuc2}': {blosum_matrix[nuc1][nuc2]}, \", end=\"\")\n",
        "            else:\n",
        "                print(f\"'{nuc2}': {blosum_matrix[nuc1][nuc2]}\", end=\"\")\n",
        "        print(\"},\")\n",
        "    print(\"}\")"
      ],
      "metadata": {
        "id": "CJsXnczsww7r"
      },
      "id": "CJsXnczsww7r",
      "execution_count": 69,
      "outputs": []
    },
    {
      "cell_type": "code",
      "source": [
        "def create_blosum_matrix(scores, nucleotides):\n",
        "    blosum_matrix = {nuc: {} for nuc in nucleotides}\n",
        "    for (x, y), score in scores.items():\n",
        "        blosum_matrix[x][y] = score\n",
        "        blosum_matrix[y][x] = score\n",
        "    return blosum_matrix"
      ],
      "metadata": {
        "id": "i43okBV5xEe2"
      },
      "id": "i43okBV5xEe2",
      "execution_count": 71,
      "outputs": []
    },
    {
      "cell_type": "code",
      "source": [
        "blosum_matrix = create_blosum_matrix(scores, nucleotides)\n",
        "print_blosum_matrix(blosum_matrix, nucleotides)"
      ],
      "metadata": {
        "colab": {
          "base_uri": "https://localhost:8080/"
        },
        "id": "gDK9Y4KFxKfA",
        "outputId": "29e060bd-c3ed-4e44-aceb-ebb0b50b4e89"
      },
      "id": "gDK9Y4KFxKfA",
      "execution_count": 72,
      "outputs": [
        {
          "output_type": "stream",
          "name": "stdout",
          "text": [
            "{\n",
            " 'A': {'A': 4, 'G': 1, 'C': 0, 'T': -1},\n",
            " 'G': {'A': 1, 'G': 4, 'C': 1, 'T': 0},\n",
            " 'C': {'A': 0, 'G': 1, 'C': 2, 'T': -2},\n",
            " 'T': {'A': -1, 'G': 0, 'C': -2, 'T': 6},\n",
            "}\n"
          ]
        }
      ]
    },
    {
      "cell_type": "markdown",
      "id": "f3b9efbe",
      "metadata": {
        "ExecuteTime": {
          "end_time": "2024-09-19T07:55:20.436835Z",
          "start_time": "2024-09-19T07:55:20.420618Z"
        },
        "id": "f3b9efbe"
      },
      "source": [
        "### Шаг 4.2: Вывод матрицы\n",
        "\n",
        "- Выведите матрицу BLOSUM в удобочитаемом формате, например, как таблицу с заголовками.\n",
        "\n",
        "**Пример:**\n",
        "\n",
        "```python\n",
        "print_blosum_matrix(blosum_matrix, nucleotides)\n",
        "    A   G   C   T\n",
        "A   4   1   0  -1\n",
        "G   1   4   1   0\n",
        "C   0   1   2  -2\n",
        "T  -1   0  -2   6\n",
        "```"
      ]
    },
    {
      "cell_type": "code",
      "execution_count": 22,
      "id": "93ee6754",
      "metadata": {
        "ExecuteTime": {
          "end_time": "2024-09-20T07:50:02.894882Z",
          "start_time": "2024-09-20T07:50:02.881450Z"
        },
        "id": "93ee6754"
      },
      "outputs": [],
      "source": [
        "def print_blosum_matrix(matrix, nucleotides):\n",
        "    print(\"   \" + \"  \".join(nucleotides))\n",
        "    for x in nucleotides:\n",
        "        row = [f\"{matrix[x][y]:3}\" for y in nucleotides]\n",
        "        print(f\"{x}  \" + \"  \".join(row))"
      ]
    },
    {
      "cell_type": "code",
      "source": [
        "print_blosum_matrix(blosum_matrix, nucleotides)"
      ],
      "metadata": {
        "colab": {
          "base_uri": "https://localhost:8080/"
        },
        "id": "CBnm94ObDTlj",
        "outputId": "56596589-2aa0-47d3-eba6-44a697670e70"
      },
      "id": "CBnm94ObDTlj",
      "execution_count": 23,
      "outputs": [
        {
          "output_type": "stream",
          "name": "stdout",
          "text": [
            "   A  G  C  T\n",
            "A    4    1    0   -1\n",
            "G    1    4    1    0\n",
            "C    0    1    2   -2\n",
            "T   -1    0   -2    6\n"
          ]
        }
      ]
    },
    {
      "cell_type": "markdown",
      "source": [
        "Небольшое косметическое улучшение с помощью ***prettytable***."
      ],
      "metadata": {
        "id": "JuV4b8_he9SM"
      },
      "id": "JuV4b8_he9SM"
    },
    {
      "cell_type": "code",
      "source": [
        "pip install prettytable"
      ],
      "metadata": {
        "colab": {
          "base_uri": "https://localhost:8080/"
        },
        "id": "91H2Hk5Qeupo",
        "outputId": "c7d36862-bd14-4025-eb12-4f1815dd0f1d"
      },
      "id": "91H2Hk5Qeupo",
      "execution_count": 55,
      "outputs": [
        {
          "output_type": "stream",
          "name": "stdout",
          "text": [
            "Requirement already satisfied: prettytable in /usr/local/lib/python3.10/dist-packages (3.11.0)\n",
            "Requirement already satisfied: wcwidth in /usr/local/lib/python3.10/dist-packages (from prettytable) (0.2.13)\n"
          ]
        }
      ]
    },
    {
      "cell_type": "code",
      "source": [
        "from prettytable import PrettyTable"
      ],
      "metadata": {
        "id": "amvQyQCFfPl9"
      },
      "id": "amvQyQCFfPl9",
      "execution_count": 58,
      "outputs": []
    },
    {
      "cell_type": "code",
      "source": [
        "def print_blosum_matrix(matrix, nucleotides):\n",
        "    table = PrettyTable()\n",
        "    table.field_names = [\" \"] + nucleotides\n",
        "\n",
        "    for x in nucleotides:\n",
        "        row = [f\"{matrix[x][y]}\" for y in nucleotides]\n",
        "        table.add_row([x] + row)\n",
        "\n",
        "    print(table)"
      ],
      "metadata": {
        "id": "a8Pwr74ser_i"
      },
      "id": "a8Pwr74ser_i",
      "execution_count": 59,
      "outputs": []
    },
    {
      "cell_type": "code",
      "source": [
        "print_blosum_matrix(blosum_matrix, nucleotides)"
      ],
      "metadata": {
        "colab": {
          "base_uri": "https://localhost:8080/"
        },
        "id": "OsZiy9Use6cy",
        "outputId": "db563e5f-0f2d-46c2-a39b-ab10476e3cb6"
      },
      "id": "OsZiy9Use6cy",
      "execution_count": 60,
      "outputs": [
        {
          "output_type": "stream",
          "name": "stdout",
          "text": [
            "+---+----+---+----+----+\n",
            "|   | A  | G | C  | T  |\n",
            "+---+----+---+----+----+\n",
            "| A | 4  | 1 | 0  | -1 |\n",
            "| G | 1  | 4 | 1  | 0  |\n",
            "| C | 0  | 1 | 2  | -2 |\n",
            "| T | -1 | 0 | -2 | 6  |\n",
            "+---+----+---+----+----+\n"
          ]
        }
      ]
    },
    {
      "cell_type": "markdown",
      "id": "990c0c7a",
      "metadata": {
        "id": "990c0c7a"
      },
      "source": [
        "## Визуализация результатов\n",
        "\n",
        "Запустите код для визуализации результатов. Потребуется установить пакеты через `pip install numpy`"
      ]
    },
    {
      "cell_type": "code",
      "source": [
        "import numpy as np\n",
        "import seaborn as sns\n",
        "import matplotlib.pyplot as plt"
      ],
      "metadata": {
        "id": "DRduX9ILDZ5I"
      },
      "id": "DRduX9ILDZ5I",
      "execution_count": 24,
      "outputs": []
    },
    {
      "cell_type": "code",
      "execution_count": 26,
      "id": "e6dc51ef",
      "metadata": {
        "ExecuteTime": {
          "end_time": "2024-09-20T07:50:05.193727Z",
          "start_time": "2024-09-20T07:50:05.053305Z"
        },
        "colab": {
          "base_uri": "https://localhost:8080/",
          "height": 699
        },
        "id": "e6dc51ef",
        "outputId": "da9038fe-680f-438d-91b6-65a6ed3b348e"
      },
      "outputs": [
        {
          "output_type": "display_data",
          "data": {
            "text/plain": [
              "<Figure size 1000x800 with 2 Axes>"
            ],
            "image/png": "[encoded data removed]"
          },
          "metadata": {}
        }
      ],
      "source": [
        "def visualize_blosum_matrix(matrix, nucleotides):\n",
        "    data = np.array([[matrix[x][y] for y in nucleotides] for x in nucleotides])\n",
        "    plt.figure(figsize=(10, 8))\n",
        "    sns.heatmap(data, xticklabels=nucleotides, yticklabels=nucleotides, annot=True, cmap=\"coolwarm\")\n",
        "    plt.title(\"Матрица BLOSUM\")\n",
        "    plt.show()\n",
        "\n",
        "visualize_blosum_matrix(blosum_matrix, nucleotides)"
      ]
    },
    {
      "cell_type": "markdown",
      "id": "ea3ccc74",
      "metadata": {
        "id": "ea3ccc74"
      },
      "source": [
        "# Реализация алгоритма Нидлмана-Вунша"
      ]
    },
    {
      "cell_type": "markdown",
      "id": "5c4b370c",
      "metadata": {
        "id": "5c4b370c"
      },
      "source": [
        "### Шаг 5: Инициализация матрицы динамического программирования\n",
        "\n",
        "Теперь перейдём к реализации алгоритма [Нидлмана-Вунша](https://en.wikipedia.org/wiki/Needleman%E2%80%93Wunsch_algorithm).\n",
        "\n",
        "Реализуйте функцию `init`, которая по $m, n$ и ошибке $\\sigma$ строит матрицу c $m + 1$ строкой и $n + 1$ столбцом:\n",
        "\n",
        "$$A_{m,n} = \\begin{pmatrix} 0 & -\\sigma & \\cdots & -n \\sigma \\\\ -\\sigma & 0 & \\cdots & 0 \\\\ \\vdots & \\vdots & \\ddots & \\vdots \\\\ -m\\sigma & 0 & \\cdots & 0 \\end{pmatrix} $$\n",
        "\n",
        "**Пример:**\n",
        "\n",
        "```python\n",
        "print(init(3, 3, 4))\n",
        "[[0, -4, -8, -12], [-4, 0, 0, 0], [-8, 0, 0, 0], [-12, 0, 0, 0]]\n",
        "```"
      ]
    },
    {
      "cell_type": "code",
      "execution_count": 27,
      "id": "c283ca17",
      "metadata": {
        "ExecuteTime": {
          "end_time": "2024-09-20T07:42:13.891859Z",
          "start_time": "2024-09-20T07:42:13.889917Z"
        },
        "id": "c283ca17"
      },
      "outputs": [],
      "source": [
        "def init(rows, cols, gap_penalty=10):\n",
        "    matrix = [[0] * (cols + 1) for _ in range(rows + 1)]\n",
        "\n",
        "    for i in range(1, rows + 1):\n",
        "        matrix[i][0] = -i * gap_penalty\n",
        "    for j in range(1, cols + 1):\n",
        "        matrix[0][j] = -j * gap_penalty\n",
        "\n",
        "    return matrix"
      ]
    },
    {
      "cell_type": "code",
      "source": [
        "print(init(3, 3, 4))"
      ],
      "metadata": {
        "colab": {
          "base_uri": "https://localhost:8080/"
        },
        "id": "_k5UeaS-Do29",
        "outputId": "186be346-fcfb-4e8c-c20e-50c006206395"
      },
      "id": "_k5UeaS-Do29",
      "execution_count": 28,
      "outputs": [
        {
          "output_type": "stream",
          "name": "stdout",
          "text": [
            "[[0, -4, -8, -12], [-4, 0, 0, 0], [-8, 0, 0, 0], [-12, 0, 0, 0]]\n"
          ]
        }
      ]
    },
    {
      "cell_type": "markdown",
      "id": "bfeb18d8",
      "metadata": {
        "ExecuteTime": {
          "end_time": "2024-09-20T05:07:36.025808Z",
          "start_time": "2024-09-20T05:07:36.015828Z"
        },
        "id": "bfeb18d8"
      },
      "source": [
        "### Шаг 6: Заполнение матрицы динамического программирования"
      ]
    },
    {
      "cell_type": "markdown",
      "id": "6cf519aa",
      "metadata": {
        "id": "6cf519aa"
      },
      "source": [
        "Пусть `a` и `b` - две последовательности, которые хотим выравнять. Теперь имея пустую матрицу, нужно научиться её заполнять. Для этого вспомним, как вычисляется очередной элемент матрицы:\n",
        "\n",
        "$$A_{i \\ j} = max \\begin{cases} A_{i-1 \\ j-1} + s(a_{i},b_{j}) & \\ \\text{Match / Mismatch}\\\\ A_{i \\ j-1} - \\sigma & \\ \\text{Insertion} \\\\ A_{i-1\\ j} - \\sigma & \\ \\text{Deletion} \\end{cases}$$\n",
        "\n",
        "где $s(a_{i},b_{j})$ - значение матрицы BLOSUM для нуклеотидов $a_{i}$ и $b_{j}$, $\\sigma$ - штраф за пропуск символа в выравнивании (параметр)"
      ]
    },
    {
      "cell_type": "markdown",
      "id": "29cceaaf",
      "metadata": {
        "id": "29cceaaf"
      },
      "source": [
        "### Шаг 7: Вычисление значения матрицы"
      ]
    },
    {
      "cell_type": "markdown",
      "id": "13d9795b",
      "metadata": {
        "id": "13d9795b"
      },
      "source": [
        "Реализуйте функцию `get_new_score`, которая принимает на вход 5 параметров - `up` ($A_{i-1\\ j}$), `left` ($A_{i \\ j-1}$), `middle` ($A_{i-1 \\ j-1}$), `s_score` ($s(a_{i},b_{j})$), `gap_penalty` ($\\sigma$), и вычисляет значение для матрицы $A_{i\\ j}$\n",
        "\n",
        "**Пример:**\n",
        "\n",
        "```python\n",
        "print(get_new_score(0, 10, 2, 0, 2))\n",
        "8\n",
        "print(get_new_score(-16, -7, -14, 0, 2))\n",
        "-9\n",
        "```"
      ]
    },
    {
      "cell_type": "code",
      "execution_count": 29,
      "id": "6aba390b",
      "metadata": {
        "ExecuteTime": {
          "end_time": "2024-09-20T07:42:13.901858Z",
          "start_time": "2024-09-20T07:42:13.899848Z"
        },
        "id": "6aba390b"
      },
      "outputs": [],
      "source": [
        "def get_new_score(up, left, middle, s_score, gap_penalty):\n",
        "    return max(middle + s_score, left - gap_penalty, up - gap_penalty)"
      ]
    },
    {
      "cell_type": "code",
      "source": [
        "print(get_new_score(0, 10, 2, 0, 2))"
      ],
      "metadata": {
        "colab": {
          "base_uri": "https://localhost:8080/"
        },
        "id": "MPmkRgZsDsbI",
        "outputId": "32c30999-3fdf-4afa-f8b8-6e0b7a2858ae"
      },
      "id": "MPmkRgZsDsbI",
      "execution_count": 31,
      "outputs": [
        {
          "output_type": "stream",
          "name": "stdout",
          "text": [
            "8\n"
          ]
        }
      ]
    },
    {
      "cell_type": "code",
      "source": [
        "print(get_new_score(-16, -7, -14, 0, 2))"
      ],
      "metadata": {
        "colab": {
          "base_uri": "https://localhost:8080/"
        },
        "id": "swAGq5gQDv9E",
        "outputId": "a9ecffaf-ef65-4ff7-f957-a61143154a66"
      },
      "id": "swAGq5gQDv9E",
      "execution_count": 32,
      "outputs": [
        {
          "output_type": "stream",
          "name": "stdout",
          "text": [
            "-9\n"
          ]
        }
      ]
    },
    {
      "cell_type": "markdown",
      "id": "c4efe8f2",
      "metadata": {
        "id": "c4efe8f2"
      },
      "source": [
        "### Шаг 8 Заполнение матрицы"
      ]
    },
    {
      "cell_type": "markdown",
      "id": "2139631a",
      "metadata": {
        "id": "2139631a"
      },
      "source": [
        "Реализуйте функцию `align`,  которая на вход принимает две последовательности ДНК, штраф за пропуск ($\\sigma$), матрицу BLOSUM и возвращает заполненную матрицу `A`.\n",
        "\n",
        "**Пример:**\n",
        "\n",
        "```python\n",
        "top_seq = \"AGTACGCA\"\n",
        "bottom_seq = \"TATGC\"\n",
        "gap_penalty = 2\n",
        "\n",
        "print(align(top_seq, bottom_seq, gap_penalty, blosum_matrix))\n",
        "[[0, -2, -4, -6, -8, -10, -12, -14, -16],\n",
        " [-2, -1, -2, 2, 0, -2, -4, -6, -8],\n",
        " [-4, 2, 0, 0, 6, 4, 2, 0, -2],\n",
        " [-6, 0, 2, 6, 4, 4, 4, 2, 0],\n",
        " [-8, -2, 4, 4, 7, 5, 8, 6, 4],\n",
        " [-10, -4, 2, 2, 5, 9, 7, 10, 8]]\n",
        "```"
      ]
    },
    {
      "cell_type": "code",
      "execution_count": 33,
      "id": "889554a2",
      "metadata": {
        "ExecuteTime": {
          "end_time": "2024-09-20T07:42:13.907603Z",
          "start_time": "2024-09-20T07:42:13.906050Z"
        },
        "id": "889554a2"
      },
      "outputs": [],
      "source": [
        "top_seq = \"AGTACGCA\"\n",
        "bottom_seq = \"TATGC\"\n",
        "gap_penalty = 2"
      ]
    },
    {
      "cell_type": "code",
      "execution_count": 34,
      "id": "e2f22469",
      "metadata": {
        "ExecuteTime": {
          "end_time": "2024-09-20T07:42:13.914057Z",
          "start_time": "2024-09-20T07:42:13.908397Z"
        },
        "id": "e2f22469"
      },
      "outputs": [],
      "source": [
        "def align(top_seq, bottom_seq, gap_penalty, blosum_matrix):\n",
        "    rows, cols = len(bottom_seq), len(top_seq)\n",
        "    matrix = init(rows, cols, gap_penalty)\n",
        "\n",
        "    for i in range(1, rows + 1):\n",
        "        for j in range(1, cols + 1):\n",
        "            s_score = blosum_matrix[bottom_seq[i-1]][top_seq[j-1]]\n",
        "            matrix[i][j] = get_new_score(matrix[i-1][j], matrix[i][j-1], matrix[i-1][j-1], s_score, gap_penalty)\n",
        "\n",
        "    return matrix"
      ]
    },
    {
      "cell_type": "code",
      "source": [
        "sm = align(top_seq, bottom_seq, gap_penalty, blosum_matrix)\n",
        "for row in sm:\n",
        "    print(row)"
      ],
      "metadata": {
        "colab": {
          "base_uri": "https://localhost:8080/"
        },
        "id": "Te13pQMgD17T",
        "outputId": "fd98c32b-16f0-4e2d-969d-59d5e5b2a900"
      },
      "id": "Te13pQMgD17T",
      "execution_count": 35,
      "outputs": [
        {
          "output_type": "stream",
          "name": "stdout",
          "text": [
            "[0, -2, -4, -6, -8, -10, -12, -14, -16]\n",
            "[-2, -1, -2, 2, 0, -2, -4, -6, -8]\n",
            "[-4, 2, 0, 0, 6, 4, 2, 0, -2]\n",
            "[-6, 0, 2, 6, 4, 4, 4, 2, 0]\n",
            "[-8, -2, 4, 4, 7, 5, 8, 6, 4]\n",
            "[-10, -4, 2, 2, 5, 9, 7, 10, 8]\n"
          ]
        }
      ]
    },
    {
      "cell_type": "markdown",
      "id": "f68198b6",
      "metadata": {
        "ExecuteTime": {
          "end_time": "2024-09-20T06:44:17.331762Z",
          "start_time": "2024-09-20T06:44:17.321308Z"
        },
        "id": "f68198b6"
      },
      "source": [
        "### Шаг 9: Построение выравнивания\n",
        "\n",
        "Теперь имея матрицу выравнивания построим самое выравнивание.\n",
        "\n",
        "Реализуйте функцию get_alignment, которая по двум последовательностям, матрице выравнивания, штрафа за пропуски, бонусам за совпадение/несовпадение нуклеотидов строит выравнивание.\n",
        "\n",
        "**Пример:**\n",
        "\n",
        "```python\n",
        "\n",
        "top_seq = \"AGTACGCA\"\n",
        "bottom_seq = \"TATGC\"\n",
        "gap_penalty = 2\n",
        "sm = align(top_seq, bottom_seq, gap_penalty, blosum_matrix)\n",
        "aligns = get_alignment(top_seq, bottom_seq, sm, gap_penalty, blosum_matrix)\n",
        "print(aligns[0])\n",
        "print(aligns[1])\n",
        "--TATGC-\n",
        "AGTACGCA\n",
        "\n",
        "top_seq = \"AGTCTCCCCC\"\n",
        "bottom_seq = \"ACTTCTACCCCAGC\"\n",
        "sm = align(top_seq, bottom_seq, gap_penalty, blosum_matrix)\n",
        "aligns = get_alignment(top_seq, bottom_seq, sm, gap_penalty, blosum_matrix)\n",
        "print(aligns[0])\n",
        "print(aligns[1])\n",
        "ACTTCTACCCCAGC\n",
        "AGT-CT-CCCC--C\n",
        "```"
      ]
    },
    {
      "cell_type": "code",
      "execution_count": 38,
      "id": "4449d97e",
      "metadata": {
        "ExecuteTime": {
          "end_time": "2024-09-20T07:42:13.929902Z",
          "start_time": "2024-09-20T07:42:13.928023Z"
        },
        "id": "4449d97e"
      },
      "outputs": [],
      "source": [
        "def get_alignment(top_seq, bottom_seq, sm, gap_penalty, blosum_matrix):\n",
        "    i, j = len(bottom_seq), len(top_seq)\n",
        "    aligned_top = []\n",
        "    aligned_bottom = []\n",
        "\n",
        "    while i > 0 and j > 0:\n",
        "        current_score = sm[i][j]\n",
        "        s_score = blosum_matrix[bottom_seq[i-1]][top_seq[j-1]]\n",
        "\n",
        "        if current_score == sm[i-1][j-1] + s_score:\n",
        "            aligned_top.append(top_seq[j-1])\n",
        "            aligned_bottom.append(bottom_seq[i-1])\n",
        "            i -= 1\n",
        "            j -= 1\n",
        "        elif current_score == sm[i][j-1] - gap_penalty:\n",
        "            aligned_top.append(top_seq[j-1])\n",
        "            aligned_bottom.append('-')\n",
        "            j -= 1\n",
        "        else:\n",
        "            aligned_top.append('-')\n",
        "            aligned_bottom.append(bottom_seq[i-1])\n",
        "            i -= 1\n",
        "\n",
        "    while j > 0:\n",
        "        aligned_top.append(top_seq[j-1])\n",
        "        aligned_bottom.append('-')\n",
        "        j -= 1\n",
        "    while i > 0:\n",
        "        aligned_top.append('-')\n",
        "        aligned_bottom.append(bottom_seq[i-1])\n",
        "        i -= 1\n",
        "\n",
        "    return ''.join(reversed(aligned_top)), ''.join(reversed(aligned_bottom))"
      ]
    },
    {
      "cell_type": "code",
      "source": [
        "top_seq = \"AGTACGCA\"\n",
        "bottom_seq = \"TATGC\""
      ],
      "metadata": {
        "id": "jkfIQDdrEDBH"
      },
      "id": "jkfIQDdrEDBH",
      "execution_count": 37,
      "outputs": []
    },
    {
      "cell_type": "code",
      "source": [
        "aligns = get_alignment(top_seq, bottom_seq, sm, gap_penalty, blosum_matrix)\n",
        "print(aligns[1])\n",
        "print(aligns[0])"
      ],
      "metadata": {
        "colab": {
          "base_uri": "https://localhost:8080/"
        },
        "id": "8ddtthUzD_fW",
        "outputId": "62f44169-eed1-4992-f1a9-cd724b025816"
      },
      "id": "8ddtthUzD_fW",
      "execution_count": 39,
      "outputs": [
        {
          "output_type": "stream",
          "name": "stdout",
          "text": [
            "--TATGC-\n",
            "AGTACGCA\n"
          ]
        }
      ]
    },
    {
      "cell_type": "markdown",
      "id": "0c8daed3",
      "metadata": {
        "ExecuteTime": {
          "end_time": "2024-09-20T08:00:23.468052Z",
          "start_time": "2024-09-20T08:00:23.453507Z"
        },
        "id": "0c8daed3"
      },
      "source": [
        "## Поздравляю! Мы научились выравнивать ДНК!"
      ]
    }
  ],
  "metadata": {
    "kernelspec": {
      "display_name": "Python 3 (ipykernel)",
      "language": "python",
      "name": "python3"
    },
    "language_info": {
      "codemirror_mode": {
        "name": "ipython",
        "version": 3
      },
      "file_extension": ".py",
      "mimetype": "text/x-python",
      "name": "python",
      "nbconvert_exporter": "python",
      "pygments_lexer": "ipython3",
      "version": "3.9.7"
    },
    "colab": {
      "provenance": []
    }
  },
  "nbformat": 4,
  "nbformat_minor": 5
}